{
 "cells": [
  {
   "cell_type": "code",
   "execution_count": 1,
   "metadata": {},
   "outputs": [],
   "source": [
    "import pickle\n",
    "\n",
    "with open('wdbc.pkl', 'rb') as f:\n",
    "    data = pickle.load(f)"
   ]
  },
  {
   "cell_type": "code",
   "execution_count": 2,
   "metadata": {},
   "outputs": [
    {
     "data": {
      "text/html": [
       "<div>\n",
       "<style scoped>\n",
       "    .dataframe tbody tr th:only-of-type {\n",
       "        vertical-align: middle;\n",
       "    }\n",
       "\n",
       "    .dataframe tbody tr th {\n",
       "        vertical-align: top;\n",
       "    }\n",
       "\n",
       "    .dataframe thead th {\n",
       "        text-align: right;\n",
       "    }\n",
       "</style>\n",
       "<table border=\"1\" class=\"dataframe\">\n",
       "  <thead>\n",
       "    <tr style=\"text-align: right;\">\n",
       "      <th></th>\n",
       "      <th>id</th>\n",
       "      <th>malignant</th>\n",
       "      <th>radius_0</th>\n",
       "      <th>texture_0</th>\n",
       "      <th>perimeter_0</th>\n",
       "      <th>area_0</th>\n",
       "      <th>smoothness_0</th>\n",
       "      <th>compactness_0</th>\n",
       "      <th>concavity_0</th>\n",
       "      <th>concave points_0</th>\n",
       "      <th>...</th>\n",
       "      <th>radius_2</th>\n",
       "      <th>texture_2</th>\n",
       "      <th>perimeter_2</th>\n",
       "      <th>area_2</th>\n",
       "      <th>smoothness_2</th>\n",
       "      <th>compactness_2</th>\n",
       "      <th>concavity_2</th>\n",
       "      <th>concave points_2</th>\n",
       "      <th>symmetry_2</th>\n",
       "      <th>fractal dimension_2</th>\n",
       "    </tr>\n",
       "  </thead>\n",
       "  <tbody>\n",
       "    <tr>\n",
       "      <td>0</td>\n",
       "      <td>842302</td>\n",
       "      <td>1</td>\n",
       "      <td>17.99</td>\n",
       "      <td>10.38</td>\n",
       "      <td>122.80</td>\n",
       "      <td>1001.0</td>\n",
       "      <td>0.11840</td>\n",
       "      <td>0.27760</td>\n",
       "      <td>0.30010</td>\n",
       "      <td>0.14710</td>\n",
       "      <td>...</td>\n",
       "      <td>25.380</td>\n",
       "      <td>17.33</td>\n",
       "      <td>184.60</td>\n",
       "      <td>2019.0</td>\n",
       "      <td>0.16220</td>\n",
       "      <td>0.66560</td>\n",
       "      <td>0.7119</td>\n",
       "      <td>0.2654</td>\n",
       "      <td>0.4601</td>\n",
       "      <td>0.11890</td>\n",
       "    </tr>\n",
       "    <tr>\n",
       "      <td>1</td>\n",
       "      <td>842517</td>\n",
       "      <td>1</td>\n",
       "      <td>20.57</td>\n",
       "      <td>17.77</td>\n",
       "      <td>132.90</td>\n",
       "      <td>1326.0</td>\n",
       "      <td>0.08474</td>\n",
       "      <td>0.07864</td>\n",
       "      <td>0.08690</td>\n",
       "      <td>0.07017</td>\n",
       "      <td>...</td>\n",
       "      <td>24.990</td>\n",
       "      <td>23.41</td>\n",
       "      <td>158.80</td>\n",
       "      <td>1956.0</td>\n",
       "      <td>0.12380</td>\n",
       "      <td>0.18660</td>\n",
       "      <td>0.2416</td>\n",
       "      <td>0.1860</td>\n",
       "      <td>0.2750</td>\n",
       "      <td>0.08902</td>\n",
       "    </tr>\n",
       "    <tr>\n",
       "      <td>2</td>\n",
       "      <td>84300903</td>\n",
       "      <td>1</td>\n",
       "      <td>19.69</td>\n",
       "      <td>21.25</td>\n",
       "      <td>130.00</td>\n",
       "      <td>1203.0</td>\n",
       "      <td>0.10960</td>\n",
       "      <td>0.15990</td>\n",
       "      <td>0.19740</td>\n",
       "      <td>0.12790</td>\n",
       "      <td>...</td>\n",
       "      <td>23.570</td>\n",
       "      <td>25.53</td>\n",
       "      <td>152.50</td>\n",
       "      <td>1709.0</td>\n",
       "      <td>0.14440</td>\n",
       "      <td>0.42450</td>\n",
       "      <td>0.4504</td>\n",
       "      <td>0.2430</td>\n",
       "      <td>0.3613</td>\n",
       "      <td>0.08758</td>\n",
       "    </tr>\n",
       "    <tr>\n",
       "      <td>3</td>\n",
       "      <td>84348301</td>\n",
       "      <td>1</td>\n",
       "      <td>11.42</td>\n",
       "      <td>20.38</td>\n",
       "      <td>77.58</td>\n",
       "      <td>386.1</td>\n",
       "      <td>0.14250</td>\n",
       "      <td>0.28390</td>\n",
       "      <td>0.24140</td>\n",
       "      <td>0.10520</td>\n",
       "      <td>...</td>\n",
       "      <td>14.910</td>\n",
       "      <td>26.50</td>\n",
       "      <td>98.87</td>\n",
       "      <td>567.7</td>\n",
       "      <td>0.20980</td>\n",
       "      <td>0.86630</td>\n",
       "      <td>0.6869</td>\n",
       "      <td>0.2575</td>\n",
       "      <td>0.6638</td>\n",
       "      <td>0.17300</td>\n",
       "    </tr>\n",
       "    <tr>\n",
       "      <td>4</td>\n",
       "      <td>84358402</td>\n",
       "      <td>1</td>\n",
       "      <td>20.29</td>\n",
       "      <td>14.34</td>\n",
       "      <td>135.10</td>\n",
       "      <td>1297.0</td>\n",
       "      <td>0.10030</td>\n",
       "      <td>0.13280</td>\n",
       "      <td>0.19800</td>\n",
       "      <td>0.10430</td>\n",
       "      <td>...</td>\n",
       "      <td>22.540</td>\n",
       "      <td>16.67</td>\n",
       "      <td>152.20</td>\n",
       "      <td>1575.0</td>\n",
       "      <td>0.13740</td>\n",
       "      <td>0.20500</td>\n",
       "      <td>0.4000</td>\n",
       "      <td>0.1625</td>\n",
       "      <td>0.2364</td>\n",
       "      <td>0.07678</td>\n",
       "    </tr>\n",
       "    <tr>\n",
       "      <td>...</td>\n",
       "      <td>...</td>\n",
       "      <td>...</td>\n",
       "      <td>...</td>\n",
       "      <td>...</td>\n",
       "      <td>...</td>\n",
       "      <td>...</td>\n",
       "      <td>...</td>\n",
       "      <td>...</td>\n",
       "      <td>...</td>\n",
       "      <td>...</td>\n",
       "      <td>...</td>\n",
       "      <td>...</td>\n",
       "      <td>...</td>\n",
       "      <td>...</td>\n",
       "      <td>...</td>\n",
       "      <td>...</td>\n",
       "      <td>...</td>\n",
       "      <td>...</td>\n",
       "      <td>...</td>\n",
       "      <td>...</td>\n",
       "      <td>...</td>\n",
       "    </tr>\n",
       "    <tr>\n",
       "      <td>564</td>\n",
       "      <td>926424</td>\n",
       "      <td>1</td>\n",
       "      <td>21.56</td>\n",
       "      <td>22.39</td>\n",
       "      <td>142.00</td>\n",
       "      <td>1479.0</td>\n",
       "      <td>0.11100</td>\n",
       "      <td>0.11590</td>\n",
       "      <td>0.24390</td>\n",
       "      <td>0.13890</td>\n",
       "      <td>...</td>\n",
       "      <td>25.450</td>\n",
       "      <td>26.40</td>\n",
       "      <td>166.10</td>\n",
       "      <td>2027.0</td>\n",
       "      <td>0.14100</td>\n",
       "      <td>0.21130</td>\n",
       "      <td>0.4107</td>\n",
       "      <td>0.2216</td>\n",
       "      <td>0.2060</td>\n",
       "      <td>0.07115</td>\n",
       "    </tr>\n",
       "    <tr>\n",
       "      <td>565</td>\n",
       "      <td>926682</td>\n",
       "      <td>1</td>\n",
       "      <td>20.13</td>\n",
       "      <td>28.25</td>\n",
       "      <td>131.20</td>\n",
       "      <td>1261.0</td>\n",
       "      <td>0.09780</td>\n",
       "      <td>0.10340</td>\n",
       "      <td>0.14400</td>\n",
       "      <td>0.09791</td>\n",
       "      <td>...</td>\n",
       "      <td>23.690</td>\n",
       "      <td>38.25</td>\n",
       "      <td>155.00</td>\n",
       "      <td>1731.0</td>\n",
       "      <td>0.11660</td>\n",
       "      <td>0.19220</td>\n",
       "      <td>0.3215</td>\n",
       "      <td>0.1628</td>\n",
       "      <td>0.2572</td>\n",
       "      <td>0.06637</td>\n",
       "    </tr>\n",
       "    <tr>\n",
       "      <td>566</td>\n",
       "      <td>926954</td>\n",
       "      <td>1</td>\n",
       "      <td>16.60</td>\n",
       "      <td>28.08</td>\n",
       "      <td>108.30</td>\n",
       "      <td>858.1</td>\n",
       "      <td>0.08455</td>\n",
       "      <td>0.10230</td>\n",
       "      <td>0.09251</td>\n",
       "      <td>0.05302</td>\n",
       "      <td>...</td>\n",
       "      <td>18.980</td>\n",
       "      <td>34.12</td>\n",
       "      <td>126.70</td>\n",
       "      <td>1124.0</td>\n",
       "      <td>0.11390</td>\n",
       "      <td>0.30940</td>\n",
       "      <td>0.3403</td>\n",
       "      <td>0.1418</td>\n",
       "      <td>0.2218</td>\n",
       "      <td>0.07820</td>\n",
       "    </tr>\n",
       "    <tr>\n",
       "      <td>567</td>\n",
       "      <td>927241</td>\n",
       "      <td>1</td>\n",
       "      <td>20.60</td>\n",
       "      <td>29.33</td>\n",
       "      <td>140.10</td>\n",
       "      <td>1265.0</td>\n",
       "      <td>0.11780</td>\n",
       "      <td>0.27700</td>\n",
       "      <td>0.35140</td>\n",
       "      <td>0.15200</td>\n",
       "      <td>...</td>\n",
       "      <td>25.740</td>\n",
       "      <td>39.42</td>\n",
       "      <td>184.60</td>\n",
       "      <td>1821.0</td>\n",
       "      <td>0.16500</td>\n",
       "      <td>0.86810</td>\n",
       "      <td>0.9387</td>\n",
       "      <td>0.2650</td>\n",
       "      <td>0.4087</td>\n",
       "      <td>0.12400</td>\n",
       "    </tr>\n",
       "    <tr>\n",
       "      <td>568</td>\n",
       "      <td>92751</td>\n",
       "      <td>0</td>\n",
       "      <td>7.76</td>\n",
       "      <td>24.54</td>\n",
       "      <td>47.92</td>\n",
       "      <td>181.0</td>\n",
       "      <td>0.05263</td>\n",
       "      <td>0.04362</td>\n",
       "      <td>0.00000</td>\n",
       "      <td>0.00000</td>\n",
       "      <td>...</td>\n",
       "      <td>9.456</td>\n",
       "      <td>30.37</td>\n",
       "      <td>59.16</td>\n",
       "      <td>268.6</td>\n",
       "      <td>0.08996</td>\n",
       "      <td>0.06444</td>\n",
       "      <td>0.0000</td>\n",
       "      <td>0.0000</td>\n",
       "      <td>0.2871</td>\n",
       "      <td>0.07039</td>\n",
       "    </tr>\n",
       "  </tbody>\n",
       "</table>\n",
       "<p>569 rows × 32 columns</p>\n",
       "</div>"
      ],
      "text/plain": [
       "           id  malignant  radius_0  texture_0  perimeter_0  area_0  \\\n",
       "0      842302          1     17.99      10.38       122.80  1001.0   \n",
       "1      842517          1     20.57      17.77       132.90  1326.0   \n",
       "2    84300903          1     19.69      21.25       130.00  1203.0   \n",
       "3    84348301          1     11.42      20.38        77.58   386.1   \n",
       "4    84358402          1     20.29      14.34       135.10  1297.0   \n",
       "..        ...        ...       ...        ...          ...     ...   \n",
       "564    926424          1     21.56      22.39       142.00  1479.0   \n",
       "565    926682          1     20.13      28.25       131.20  1261.0   \n",
       "566    926954          1     16.60      28.08       108.30   858.1   \n",
       "567    927241          1     20.60      29.33       140.10  1265.0   \n",
       "568     92751          0      7.76      24.54        47.92   181.0   \n",
       "\n",
       "     smoothness_0  compactness_0  concavity_0  concave points_0  ...  \\\n",
       "0         0.11840        0.27760      0.30010           0.14710  ...   \n",
       "1         0.08474        0.07864      0.08690           0.07017  ...   \n",
       "2         0.10960        0.15990      0.19740           0.12790  ...   \n",
       "3         0.14250        0.28390      0.24140           0.10520  ...   \n",
       "4         0.10030        0.13280      0.19800           0.10430  ...   \n",
       "..            ...            ...          ...               ...  ...   \n",
       "564       0.11100        0.11590      0.24390           0.13890  ...   \n",
       "565       0.09780        0.10340      0.14400           0.09791  ...   \n",
       "566       0.08455        0.10230      0.09251           0.05302  ...   \n",
       "567       0.11780        0.27700      0.35140           0.15200  ...   \n",
       "568       0.05263        0.04362      0.00000           0.00000  ...   \n",
       "\n",
       "     radius_2  texture_2  perimeter_2  area_2  smoothness_2  compactness_2  \\\n",
       "0      25.380      17.33       184.60  2019.0       0.16220        0.66560   \n",
       "1      24.990      23.41       158.80  1956.0       0.12380        0.18660   \n",
       "2      23.570      25.53       152.50  1709.0       0.14440        0.42450   \n",
       "3      14.910      26.50        98.87   567.7       0.20980        0.86630   \n",
       "4      22.540      16.67       152.20  1575.0       0.13740        0.20500   \n",
       "..        ...        ...          ...     ...           ...            ...   \n",
       "564    25.450      26.40       166.10  2027.0       0.14100        0.21130   \n",
       "565    23.690      38.25       155.00  1731.0       0.11660        0.19220   \n",
       "566    18.980      34.12       126.70  1124.0       0.11390        0.30940   \n",
       "567    25.740      39.42       184.60  1821.0       0.16500        0.86810   \n",
       "568     9.456      30.37        59.16   268.6       0.08996        0.06444   \n",
       "\n",
       "     concavity_2  concave points_2  symmetry_2  fractal dimension_2  \n",
       "0         0.7119            0.2654      0.4601              0.11890  \n",
       "1         0.2416            0.1860      0.2750              0.08902  \n",
       "2         0.4504            0.2430      0.3613              0.08758  \n",
       "3         0.6869            0.2575      0.6638              0.17300  \n",
       "4         0.4000            0.1625      0.2364              0.07678  \n",
       "..           ...               ...         ...                  ...  \n",
       "564       0.4107            0.2216      0.2060              0.07115  \n",
       "565       0.3215            0.1628      0.2572              0.06637  \n",
       "566       0.3403            0.1418      0.2218              0.07820  \n",
       "567       0.9387            0.2650      0.4087              0.12400  \n",
       "568       0.0000            0.0000      0.2871              0.07039  \n",
       "\n",
       "[569 rows x 32 columns]"
      ]
     },
     "execution_count": 2,
     "metadata": {},
     "output_type": "execute_result"
    }
   ],
   "source": [
    "data"
   ]
  },
  {
   "cell_type": "code",
   "execution_count": 3,
   "metadata": {},
   "outputs": [],
   "source": [
    "X = data.drop([\"id\", \"malignant\"], axis=1)\n",
    "Y = data[\"malignant\"]"
   ]
  },
  {
   "cell_type": "code",
   "execution_count": 4,
   "metadata": {},
   "outputs": [
    {
     "data": {
      "text/plain": [
       "1.2109146226415093"
      ]
     },
     "execution_count": 4,
     "metadata": {},
     "output_type": "execute_result"
    }
   ],
   "source": [
    "data[data[\"malignant\"] == 1][\"texture_1\"].mean()"
   ]
  },
  {
   "cell_type": "code",
   "execution_count": 5,
   "metadata": {},
   "outputs": [
    {
     "data": {
      "text/plain": [
       "1.2203801120448179"
      ]
     },
     "execution_count": 5,
     "metadata": {},
     "output_type": "execute_result"
    }
   ],
   "source": [
    "data[data[\"malignant\"] == 0][\"texture_1\"].mean()"
   ]
  },
  {
   "cell_type": "code",
   "execution_count": 6,
   "metadata": {},
   "outputs": [
    {
     "data": {
      "text/plain": [
       "0      153.40\n",
       "1       74.08\n",
       "2       94.03\n",
       "3       27.23\n",
       "4       94.44\n",
       "        ...  \n",
       "564    158.70\n",
       "565     99.04\n",
       "566     48.55\n",
       "567     86.22\n",
       "568     19.15\n",
       "Name: area_1, Length: 569, dtype: float64"
      ]
     },
     "execution_count": 6,
     "metadata": {},
     "output_type": "execute_result"
    }
   ],
   "source": [
    "data[\"area_1\"]"
   ]
  },
  {
   "cell_type": "code",
   "execution_count": 119,
   "metadata": {},
   "outputs": [
    {
     "data": {
      "text/plain": [
       "Index(['id', 'malignant', 'radius_0', 'texture_0', 'perimeter_0', 'area_0',\n",
       "       'smoothness_0', 'compactness_0', 'concavity_0', 'concave points_0',\n",
       "       'symmetry_0', 'fractal dimension_0', 'radius_1', 'texture_1',\n",
       "       'perimeter_1', 'area_1', 'smoothness_1', 'compactness_1', 'concavity_1',\n",
       "       'concave points_1', 'symmetry_1', 'fractal dimension_1', 'radius_2',\n",
       "       'texture_2', 'perimeter_2', 'area_2', 'smoothness_2', 'compactness_2',\n",
       "       'concavity_2', 'concave points_2', 'symmetry_2', 'fractal dimension_2'],\n",
       "      dtype='object')"
      ]
     },
     "execution_count": 119,
     "metadata": {},
     "output_type": "execute_result"
    }
   ],
   "source": [
    "data.columns"
   ]
  },
  {
   "cell_type": "code",
   "execution_count": 120,
   "metadata": {},
   "outputs": [
    {
     "name": "stdout",
     "output_type": "stream",
     "text": [
      "(569, 30)\n",
      "(569,)\n"
     ]
    }
   ],
   "source": [
    "print(X.shape)\n",
    "print(Y.shape)"
   ]
  },
  {
   "cell_type": "code",
   "execution_count": 909,
   "metadata": {},
   "outputs": [],
   "source": [
    "# radius 0.6 vs 0.28\n",
    "# perimeter 4.3 vs 2\n",
    "# area 72 vs 21\n",
    "# concavity 0.41 vs 0.26\n",
    "# conacave points 0.015 vs 0.0098"
   ]
  },
  {
   "cell_type": "code",
   "execution_count": 1704,
   "metadata": {},
   "outputs": [
    {
     "name": "stdout",
     "output_type": "stream",
     "text": [
      "212\n",
      "357\n"
     ]
    }
   ],
   "source": [
    "print(len(data[data[\"malignant\"] == 1]))\n",
    "print(len(data[data[\"malignant\"] == 0]))"
   ]
  },
  {
   "cell_type": "code",
   "execution_count": 1139,
   "metadata": {},
   "outputs": [
    {
     "data": {
      "text/plain": [
       "0.37258347978910367"
      ]
     },
     "execution_count": 1139,
     "metadata": {},
     "output_type": "execute_result"
    }
   ],
   "source": [
    "212/(357+212)"
   ]
  },
  {
   "cell_type": "code",
   "execution_count": 1140,
   "metadata": {},
   "outputs": [
    {
     "data": {
      "text/plain": [
       "0.6274165202108963"
      ]
     },
     "execution_count": 1140,
     "metadata": {},
     "output_type": "execute_result"
    }
   ],
   "source": [
    "357/(357+212)"
   ]
  },
  {
   "cell_type": "code",
   "execution_count": 919,
   "metadata": {},
   "outputs": [
    {
     "name": "stdout",
     "output_type": "stream",
     "text": [
      "61.35526840853969\n",
      "8.843472045083173\n"
     ]
    }
   ],
   "source": [
    "t = \"area_1\"\n",
    "print(data[data[\"malignant\"] == 1][t].std())\n",
    "print(data[data[\"malignant\"] == 0][t].std())"
   ]
  },
  {
   "cell_type": "code",
   "execution_count": 1706,
   "metadata": {},
   "outputs": [],
   "source": [
    "t = \"texture_\"\n",
    "#print(data[data[\"malignant\"] == 1][t].mean())\n",
    "#print(data[data[\"malignant\"] == 0][t].mean())"
   ]
  },
  {
   "cell_type": "code",
   "execution_count": 1723,
   "metadata": {},
   "outputs": [
    {
     "name": "stdout",
     "output_type": "stream",
     "text": [
      "4.885\n"
     ]
    }
   ],
   "source": [
    "t = \"texture_1\"\n",
    "print(max(data[data[\"malignant\"] == 0][t]))"
   ]
  },
  {
   "cell_type": "code",
   "execution_count": 1685,
   "metadata": {},
   "outputs": [
    {
     "data": {
      "text/plain": [
       "72.67240566037735"
      ]
     },
     "execution_count": 1685,
     "metadata": {},
     "output_type": "execute_result"
    }
   ],
   "source": [
    "data[data[\"malignant\"] == 1][\"area_1\"].mean()"
   ]
  },
  {
   "cell_type": "code",
   "execution_count": 1686,
   "metadata": {},
   "outputs": [
    {
     "data": {
      "text/plain": [
       "61.35526840853969"
      ]
     },
     "execution_count": 1686,
     "metadata": {},
     "output_type": "execute_result"
    }
   ],
   "source": [
    "data[data[\"malignant\"] == 1][\"area_1\"].std()"
   ]
  },
  {
   "cell_type": "code",
   "execution_count": 979,
   "metadata": {},
   "outputs": [],
   "source": [
    "#for index, row in X.iterrows():\n",
    "    #print(row[\"radius_0\"])"
   ]
  },
  {
   "cell_type": "code",
   "execution_count": 29,
   "metadata": {},
   "outputs": [],
   "source": [
    "from sklearn.model_selection import train_test_split\n",
    "X_train, X_test, y_train, y_test = train_test_split(X, Y, test_size=0.5, random_state=1)\n",
    "X_val, X_test, y_val, y_test = train_test_split(X_test, y_test, test_size=0.4, random_state=1)"
   ]
  },
  {
   "cell_type": "code",
   "execution_count": 30,
   "metadata": {},
   "outputs": [
    {
     "data": {
      "text/plain": [
       "284"
      ]
     },
     "execution_count": 30,
     "metadata": {},
     "output_type": "execute_result"
    }
   ],
   "source": [
    "len(X_train)"
   ]
  },
  {
   "cell_type": "code",
   "execution_count": 31,
   "metadata": {},
   "outputs": [
    {
     "data": {
      "text/plain": [
       "114"
      ]
     },
     "execution_count": 31,
     "metadata": {},
     "output_type": "execute_result"
    }
   ],
   "source": [
    "len(X_test)"
   ]
  },
  {
   "cell_type": "code",
   "execution_count": 32,
   "metadata": {},
   "outputs": [
    {
     "data": {
      "text/plain": [
       "171"
      ]
     },
     "execution_count": 32,
     "metadata": {},
     "output_type": "execute_result"
    }
   ],
   "source": [
    "len(X_val)"
   ]
  },
  {
   "cell_type": "markdown",
   "metadata": {},
   "source": [
    "# Rule based classifier"
   ]
  },
  {
   "cell_type": "code",
   "execution_count": 33,
   "metadata": {},
   "outputs": [],
   "source": [
    "from sklearn.metrics import accuracy_score\n",
    "class RuleBasedClassifier:\n",
    "    #def __init__(self):\n",
    "    def fit(self, X, Y):\n",
    "        self.x = X\n",
    "        self.y = Y\n",
    "        self.malignant_mean = X[Y == 1].mean()\n",
    "        self.malignant_std = X[Y == 1].std()\n",
    "        self.malignant = self.malignant_mean-(self.malignant_std)\n",
    "        \n",
    "        self.benign_mean = X[Y == 0].mean()\n",
    "        self.benign_std = X[Y == 0].std()\n",
    "        self.benign = self.benign_mean+self.benign_std\n",
    "        \n",
    "        \n",
    "        # Size  (radius, area, perimeter)\n",
    "        \n",
    "        # Shape (smoothness, concavity, compactness, concave points, symmetry, fractal dimension)\n",
    "        \n",
    "        # Texture (texture)\n",
    "        \n",
    "        # Arrangement (?)\n",
    "        \n",
    "    def predict(self, X):\n",
    "        mean_radius = X[\"radius_0\"].mean()\n",
    "        mean_area = X[\"area_0\"].mean()\n",
    "        \n",
    "        predictions = []\n",
    "        for index, x in X.iterrows():\n",
    "            # Size\n",
    "            if (x[\"radius_2\"] >= self.malignant[\"radius_2\"] or\n",
    "                x[\"area_2\"] >= self.malignant[\"area_2\"]):\n",
    "         #       #x[\"perimeter_2\"] >= self.malignant[\"perimeter_2\"]):\n",
    "                predictions.append(1)\n",
    "            # Shape\n",
    "            elif (x[\"smoothness_2\"] >= self.malignant_mean[\"smoothness_2\"]):\n",
    "                 predictions.append(1)\n",
    "          #  # Texture\n",
    "            elif (x[\"texture_2\"] >= self.malignant_mean[\"texture_2\"]):\n",
    "                predictions.append(1)\n",
    "          #  # Arrangement\n",
    "            elif (x[\"area_1\"] >= max(self.x[self.y == 0][\"area_1\"])):\n",
    "                #print(\"HEHEH\")\n",
    "                #print(\"HEY\")\n",
    "                predictions.append(1)\n",
    "            else:\n",
    "                predictions.append(0)\n",
    "        return predictions\n",
    "    \n",
    "    def score(X, Y):\n",
    "        return accuracy_score(self.predict(X), Y)"
   ]
  },
  {
   "cell_type": "code",
   "execution_count": 34,
   "metadata": {},
   "outputs": [
    {
     "name": "stdout",
     "output_type": "stream",
     "text": [
      "0.2549019607843137\n",
      "0.7894736842105263\n",
      "              precision    recall  f1-score   support\n",
      "\n",
      "           0       0.71      0.96      0.82        55\n",
      "           1       0.95      0.63      0.76        59\n",
      "\n",
      "    accuracy                           0.79       114\n",
      "   macro avg       0.83      0.80      0.79       114\n",
      "weighted avg       0.83      0.79      0.78       114\n",
      "\n",
      "0.7551020408163266\n"
     ]
    }
   ],
   "source": [
    "from sklearn.metrics import classification_report\n",
    "from sklearn.metrics import f1_score\n",
    "\n",
    "rb = RuleBasedClassifier()\n",
    "rb.fit(X_train, y_train)\n",
    "y_pred = rb.predict(X_test)\n",
    "#print(y_pred)\n",
    "#print(sum(list(y_test)))\n",
    "#print(len(y_pred))\n",
    "print(sum(y_test)/(len(y_test)+sum(y_test)))\n",
    "\n",
    "print(accuracy_score(y_pred, y_test))\n",
    "print(classification_report(y_pred, y_test))\n",
    "print(f1_score(y_pred, y_test))\n",
    "#print(rb.predict(X))"
   ]
  },
  {
   "cell_type": "code",
   "execution_count": 35,
   "metadata": {},
   "outputs": [
    {
     "data": {
      "image/png": "[encoded data removed]",
      "text/plain": [
       "<Figure size 432x288 with 1 Axes>"
      ]
     },
     "metadata": {
      "needs_background": "light"
     },
     "output_type": "display_data"
    }
   ],
   "source": [
    "from mlxtend.plotting import plot_confusion_matrix\n",
    "from sklearn.metrics import confusion_matrix\n",
    "import matplotlib.pyplot as plt\n",
    "import numpy as np\n",
    "\n",
    "binary1 = confusion_matrix(y_test, y_pred)\n",
    "\n",
    "fig, ax = plot_confusion_matrix(conf_mat=binary1)\n",
    "plt.show()"
   ]
  },
  {
   "cell_type": "markdown",
   "metadata": {},
   "source": []
  },
  {
   "cell_type": "code",
   "execution_count": 1819,
   "metadata": {},
   "outputs": [
    {
     "name": "stdout",
     "output_type": "stream",
     "text": [
      "0.9385964912280702\n",
      "              precision    recall  f1-score   support\n",
      "\n",
      "           0       0.96      0.95      0.95        75\n",
      "           1       0.90      0.92      0.91        39\n",
      "\n",
      "    accuracy                           0.94       114\n",
      "   macro avg       0.93      0.93      0.93       114\n",
      "weighted avg       0.94      0.94      0.94       114\n",
      "\n"
     ]
    }
   ],
   "source": [
    "from sklearn.ensemble import RandomForestClassifier\n",
    "from sklearn.model_selection import cross_val_score\n",
    "rf = RandomForestClassifier(n_estimators=500)\n",
    "rf.fit(X_train, y_train)\n",
    "y_pred = rf.predict(X_test)\n",
    "print(accuracy_score(y_test, y_pred))\n",
    "print(classification_report(y_test, y_pred))\n",
    "#cross_val_score(rf, X, Y).mean()"
   ]
  },
  {
   "cell_type": "code",
   "execution_count": null,
   "metadata": {},
   "outputs": [],
   "source": [
    "\n",
    "\n"
   ]
  },
  {
   "cell_type": "code",
   "execution_count": 1780,
   "metadata": {},
   "outputs": [
    {
     "data": {
      "image/png": "[encoded data removed]",
      "text/plain": [
       "<Figure size 432x288 with 1 Axes>"
      ]
     },
     "metadata": {},
     "output_type": "display_data"
    }
   ],
   "source": [
    "binary1 = confusion_matrix(y_test, y_pred)\n",
    "\n",
    "fig, ax = plot_confusion_matrix(conf_mat=binary1)\n",
    "plt.show()"
   ]
  },
  {
   "cell_type": "markdown",
   "metadata": {},
   "source": [
    "# Custom classifier"
   ]
  },
  {
   "cell_type": "code",
   "execution_count": 1050,
   "metadata": {},
   "outputs": [
    {
     "name": "stdout",
     "output_type": "stream",
     "text": [
      "Feature ranking:\n",
      "1. radius_2 (0.136981)\n",
      "2. texture_2 (0.132044)\n",
      "3. compactness_2 (0.112765)\n",
      "4. symmetry_1 (0.110061)\n",
      "5. compactness_0 (0.092705)\n",
      "6. radius_0 (0.057745)\n",
      "7. texture_0 (0.052788)\n",
      "8. smoothness_2 (0.039336)\n",
      "9. texture_1 (0.037605)\n",
      "10. smoothness_0 (0.034776)\n",
      "11. id (0.034464)\n",
      "12. fractal dimension_1 (0.016067)\n",
      "13. malignant (0.015582)\n",
      "14. perimeter_2 (0.015175)\n",
      "15. symmetry_0 (0.014044)\n",
      "16. area_2 (0.012991)\n",
      "17. radius_1 (0.012598)\n",
      "18. concavity_2 (0.010657)\n",
      "19. area_0 (0.009117)\n",
      "20. perimeter_0 (0.007194)\n",
      "21. concave points_2 (0.007170)\n",
      "22. smoothness_1 (0.005594)\n",
      "23. concave points_1 (0.005288)\n",
      "24. fractal dimension_0 (0.005071)\n",
      "25. compactness_1 (0.004488)\n",
      "26. perimeter_1 (0.004303)\n",
      "27. concavity_1 (0.004085)\n",
      "28. area_1 (0.003750)\n",
      "29. concavity_0 (0.002850)\n",
      "30. concave points_0 (0.002707)\n"
     ]
    },
    {
     "data": {
      "image/png": "[encoded data removed]",
      "text/plain": [
       "<Figure size 432x288 with 1 Axes>"
      ]
     },
     "metadata": {
      "needs_background": "light"
     },
     "output_type": "display_data"
    }
   ],
   "source": [
    "import numpy as np\n",
    "import matplotlib.pyplot as plt\n",
    "importances = rf.feature_importances_\n",
    "std = np.std([tree.feature_importances_ for tree in rf.estimators_],\n",
    "             axis=0)\n",
    "indices = np.argsort(importances)[::-1]\n",
    "names = data.columns[indices]\n",
    "\n",
    "# Print the feature ranking\n",
    "print(\"Feature ranking:\")\n",
    "\n",
    "for f in range(X.shape[1]):\n",
    "    print(\"%d. %s (%f)\" % (f + 1, names[f], importances[indices[f]]))\n",
    "\n",
    "# Plot the feature importances of the forest\n",
    "plt.figure()\n",
    "plt.title(\"Feature importances\")\n",
    "plt.bar(range(X.shape[1]), importances[indices],\n",
    "       color=\"r\", yerr=std[indices], align=\"center\")\n",
    "plt.xticks(range(X.shape[1]), indices)\n",
    "plt.xlim([-1, X.shape[1]])\n",
    "plt.show()"
   ]
  },
  {
   "cell_type": "code",
   "execution_count": null,
   "metadata": {},
   "outputs": [],
   "source": []
  }
 ],
 "metadata": {
  "kernelspec": {
   "display_name": "Python 3",
   "language": "python",
   "name": "python3"
  },
  "language_info": {
   "codemirror_mode": {
    "name": "ipython",
    "version": 3
   },
   "file_extension": ".py",
   "mimetype": "text/x-python",
   "name": "python",
   "nbconvert_exporter": "python",
   "pygments_lexer": "ipython3",
   "version": "3.6.8"
  }
 },
 "nbformat": 4,
 "nbformat_minor": 4
}
