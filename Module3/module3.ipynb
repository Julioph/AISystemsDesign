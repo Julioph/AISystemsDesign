{
 "cells": [
  {
   "cell_type": "code",
   "execution_count": 1,
   "metadata": {},
   "outputs": [],
   "source": [
    "import pandas as pd"
   ]
  },
  {
   "cell_type": "code",
   "execution_count": 2,
   "metadata": {},
   "outputs": [],
   "source": [
    "beijing = pd.read_csv(\"Beijing_labeled.csv\")\n",
    "shenyang = pd.read_csv(\"Shenyang_labeled.csv\")\n",
    "\n",
    "#train = beijing.append(shenyang)\n",
    "train = beijing\n",
    "\n",
    "guangzhou = pd.read_csv(\"Guangzhou_labeled.csv\")\n",
    "shanghai = pd.read_csv(\"Shanghai_labeled.csv\")\n",
    "\n",
    "test = guangzhou.append(shanghai)\n",
    "\n",
    "#validation = pd.read_csv(\"Chengdu_labeled.csv\")\n",
    "validation = shenyang\n"
   ]
  },
  {
   "cell_type": "code",
   "execution_count": 3,
   "metadata": {},
   "outputs": [],
   "source": [
    "Xtrain = train[train.columns[:-1]]\n",
    "Ytrain = train[train.columns[-1]]\n",
    "Xtest = test[test.columns[:-1]]\n",
    "Ytest = test[test.columns[-1]]\n",
    "\n",
    "Xvalidation = validation[validation.columns[:-1]]\n",
    "Yvalidation = validation[validation.columns[-1]]"
   ]
  },
  {
   "cell_type": "code",
   "execution_count": 4,
   "metadata": {},
   "outputs": [],
   "source": [
    "from sklearn.preprocessing import StandardScaler\n",
    "scaler = StandardScaler()\n",
    "Xtrain = scaler.fit_transform(Xtrain)\n",
    "Xtest = scaler.transform(Xtest)\n",
    "Xvalidation = scaler.transform(Xvalidation)"
   ]
  },
  {
   "cell_type": "code",
   "execution_count": 16,
   "metadata": {},
   "outputs": [],
   "source": [
    "from sklearn.metrics import accuracy_score\n",
    "from collections import Counter\n",
    "import numpy as np\n",
    "\n",
    "class KNN:\n",
    "    def __init__(self, k):\n",
    "        self.k = k\n",
    "        self.is_fitted = False\n",
    "        \n",
    "    def distance(self, x1, x2):\n",
    "        return np.linalg.norm(x1-x2)\n",
    "        \n",
    "        \"\"\"\n",
    "        Parameters:\n",
    "            x: input data of dimension (n_samples, n_features)\n",
    "            y: output data of dimension (n_samples, 1)\n",
    "        \"\"\"\n",
    "    def fit(self, x, y):\n",
    "        if self.k > x.shape[0]:\n",
    "            raise RuntimeError(\"Error: k must be smaller than the number of samples.\")\n",
    "            \n",
    "        if x.shape[0] != y.shape[0]:\n",
    "            raise RuntimeError(\"Error: dimensions of x and y not matching.\")\n",
    "            \n",
    "        self.y = y.values\n",
    "        self.x = x\n",
    "        self.is_fitted = True\n",
    "        return self\n",
    "        \n",
    "    \n",
    "    def predict(self, x):\n",
    "        if not self.is_fitted:\n",
    "            raise RuntimeError(\"Error: Model not fitted.\")\n",
    "        result = []\n",
    "        ind = []\n",
    "        distances = []\n",
    "        \n",
    "        for x1 in x:\n",
    "            for x2 in self.x: \n",
    "                distances.append(self.distance(x1, x2))\n",
    "            ind.append(np.argsort(distances)[:self.k])\n",
    "            distances = []\n",
    "        for i in ind:\n",
    "            result.append(Counter(self.y[i]).most_common()[0][0])\n",
    "        return np.array(result)\n",
    "            \n",
    "        pass\n",
    "    \n",
    "    def score(self, x, y):\n",
    "        if not self.is_fitted:\n",
    "            raise RuntimeError(\"Error: Model not fitted.\")\n",
    "            \n",
    "        return accuracy_score(self.predict(x), y)"
   ]
  },
  {
   "cell_type": "markdown",
   "metadata": {},
   "source": [
    "The graph below shows that there is a dip in accuracy at k=500 roughly (the x-axis should be multiplied by 20 to get the actual value of k as we only tested 100 values with an interval of 20 between them). Then at about k=1000 the accuracy seems to flatline and stay constant. So we picked k=1000 to evaluate the test set with."
   ]
  },
  {
   "cell_type": "code",
   "execution_count": 19,
   "metadata": {},
   "outputs": [],
   "source": [
    "validation_scores = []\n",
    "for i in range(1,100):\n",
    "    knn = KNN(i*20)\n",
    "    knn.fit(Xtrain, Ytrain)\n",
    "    validation_scores.append(knn.score(Xvalidation, Yvalidation))"
   ]
  },
  {
   "cell_type": "code",
   "execution_count": 350,
   "metadata": {},
   "outputs": [
    {
     "data": {
      "text/plain": [
       "[<matplotlib.lines.Line2D at 0x7f19fb527908>]"
      ]
     },
     "execution_count": 350,
     "metadata": {},
     "output_type": "execute_result"
    },
    {
     "data": {
      "image/png": "[encoded data removed]",
      "text/plain": [
       "<Figure size 432x288 with 1 Axes>"
      ]
     },
     "metadata": {
      "needs_background": "light"
     },
     "output_type": "display_data"
    }
   ],
   "source": [
    "import matplotlib.pyplot as plt\n",
    "plt.plot(validation_scores)"
   ]
  },
  {
   "cell_type": "code",
   "execution_count": 42,
   "metadata": {},
   "outputs": [
    {
     "data": {
      "text/plain": [
       "<__main__.KNN at 0x7fa60d4de208>"
      ]
     },
     "execution_count": 42,
     "metadata": {},
     "output_type": "execute_result"
    }
   ],
   "source": [
    "knn = KNN(k=1000)\n",
    "knn.fit(Xtrain, Ytrain)"
   ]
  },
  {
   "cell_type": "code",
   "execution_count": 21,
   "metadata": {},
   "outputs": [
    {
     "data": {
      "text/plain": [
       "0.9134295227524972"
      ]
     },
     "execution_count": 21,
     "metadata": {},
     "output_type": "execute_result"
    }
   ],
   "source": [
    "knn.score(Xtest, Ytest)"
   ]
  },
  {
   "cell_type": "code",
   "execution_count": 43,
   "metadata": {},
   "outputs": [
    {
     "data": {
      "text/plain": [
       "0.6919362626750362"
      ]
     },
     "execution_count": 43,
     "metadata": {},
     "output_type": "execute_result"
    }
   ],
   "source": [
    "knn.score(Xtrain, Ytrain)"
   ]
  },
  {
   "cell_type": "code",
   "execution_count": 44,
   "metadata": {},
   "outputs": [
    {
     "data": {
      "text/plain": [
       "1.0"
      ]
     },
     "execution_count": 44,
     "metadata": {},
     "output_type": "execute_result"
    }
   ],
   "source": [
    "knn = KNN(k=1)\n",
    "knn.fit(Xtrain, Ytrain)\n",
    "knn.score(Xtrain, Ytrain)"
   ]
  },
  {
   "cell_type": "markdown",
   "metadata": {},
   "source": [
    "We also ran the same code to get an idea of how sklearn's implementation would behave with varying values of k. The graph looks basically the same which means that our model makes sense. The slight differences is likely due to small things that sklearn includes in their implementation to make it more efficient (ball tree) and the use of weights etc."
   ]
  },
  {
   "cell_type": "code",
   "execution_count": 34,
   "metadata": {},
   "outputs": [],
   "source": [
    "from sklearn.neighbors import KNeighborsClassifier\n",
    "validation_scores = []\n",
    "for i in range(1,100):\n",
    "    knn = KNeighborsClassifier(n_neighbors=i*20)\n",
    "    knn.fit(Xtrain, Ytrain)\n",
    "    validation_scores.append(knn.score(Xvalidation, Yvalidation))"
   ]
  },
  {
   "cell_type": "code",
   "execution_count": 35,
   "metadata": {},
   "outputs": [
    {
     "data": {
      "text/plain": [
       "[<matplotlib.lines.Line2D at 0x7fa60d4abb00>]"
      ]
     },
     "execution_count": 35,
     "metadata": {},
     "output_type": "execute_result"
    },
    {
     "data": {
      "image/png": "[encoded data removed]",
      "text/plain": [
       "<Figure size 432x288 with 1 Axes>"
      ]
     },
     "metadata": {
      "needs_background": "light"
     },
     "output_type": "display_data"
    }
   ],
   "source": [
    "import matplotlib.pyplot as plt\n",
    "plt.plot(validation_scores)"
   ]
  },
  {
   "cell_type": "markdown",
   "metadata": {},
   "source": [
    "# Implementation using Ball Trees"
   ]
  },
  {
   "cell_type": "markdown",
   "metadata": {},
   "source": [
    "This was just implemented for fun to see the difference in speed (this method was of course computationally quicker)."
   ]
  },
  {
   "cell_type": "code",
   "execution_count": 263,
   "metadata": {},
   "outputs": [],
   "source": [
    "from sklearn.metrics import accuracy_score\n",
    "from sklearn.neighbors import BallTree\n",
    "from collections import Counter\n",
    "import numpy as np\n",
    "\n",
    "class KNN_ball_tree:\n",
    "    def __init__(self, k):\n",
    "        self.k = k\n",
    "        self.is_fitted = False\n",
    "        \n",
    "    def distance(x1, x2):\n",
    "        return numpy.linalg.norm(x1-x2)\n",
    "        \n",
    "        \"\"\"\n",
    "        Parameters:\n",
    "            x: input data of dimension (n_samples, n_features)\n",
    "            y: output data of dimension (n_samples, 1)\n",
    "        \"\"\"\n",
    "    def fit(self, x, y):\n",
    "        if self.k > x.shape[0]:\n",
    "            raise RuntimeError(\"Error: k must be smaller than the number of samples.\")\n",
    "            \n",
    "        if x.shape[0] != y.shape[0]:\n",
    "            raise RuntimeError(\"Error: dimensions of x and y not matching.\")\n",
    "            \n",
    "        self.y = y.values\n",
    "        self.x = x\n",
    "        self.x_ball = BallTree(Xtrain)\n",
    "        self.is_fitted = True\n",
    "        return self\n",
    "        \n",
    "    \n",
    "    def predict(self, x):\n",
    "        if not self.is_fitted:\n",
    "            raise RuntimeError(\"Error: Model not fitted.\")\n",
    "        result = []\n",
    "        _, ind = self.x_ball.query(x, k=self.k)\n",
    "        j = 0\n",
    "        for i in ind:\n",
    "            result.append(Counter(self.y[i.flatten()]).most_common()[0][0])\n",
    "            j += 1\n",
    "        return np.array(result)\n",
    "            \n",
    "        pass\n",
    "    \n",
    "    def score(self, x, y):\n",
    "        if not self.is_fitted:\n",
    "            raise RuntimeError(\"Error: Model not fitted.\")\n",
    "            \n",
    "        return accuracy_score(self.predict(x), y)"
   ]
  },
  {
   "cell_type": "code",
   "execution_count": 264,
   "metadata": {},
   "outputs": [],
   "source": [
    "knn_ball = KNN_ball_tree(12)"
   ]
  },
  {
   "cell_type": "code",
   "execution_count": 265,
   "metadata": {},
   "outputs": [
    {
     "data": {
      "text/plain": [
       "<__main__.KNN_ball_tree at 0x7f1a00295358>"
      ]
     },
     "execution_count": 265,
     "metadata": {},
     "output_type": "execute_result"
    }
   ],
   "source": [
    "knn_ball.fit(Xtrain, Ytrain)"
   ]
  },
  {
   "cell_type": "code",
   "execution_count": 266,
   "metadata": {},
   "outputs": [
    {
     "data": {
      "text/plain": [
       "0.633370329263781"
      ]
     },
     "execution_count": 266,
     "metadata": {},
     "output_type": "execute_result"
    }
   ],
   "source": [
    "knn_ball.score(Xtest, Ytest)"
   ]
  },
  {
   "cell_type": "code",
   "execution_count": null,
   "metadata": {},
   "outputs": [],
   "source": []
  }
 ],
 "metadata": {
  "kernelspec": {
   "display_name": "Python 3",
   "language": "python",
   "name": "python3"
  },
  "language_info": {
   "codemirror_mode": {
    "name": "ipython",
    "version": 3
   },
   "file_extension": ".py",
   "mimetype": "text/x-python",
   "name": "python",
   "nbconvert_exporter": "python",
   "pygments_lexer": "ipython3",
   "version": "3.6.8"
  }
 },
 "nbformat": 4,
 "nbformat_minor": 4
}
