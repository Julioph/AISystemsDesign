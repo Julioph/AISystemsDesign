{
 "cells": [
  {
   "cell_type": "code",
   "execution_count": 1,
   "metadata": {},
   "outputs": [],
   "source": [
    "import pandas as pd\n",
    "import numpy as np"
   ]
  },
  {
   "cell_type": "markdown",
   "metadata": {},
   "source": [
    "### a) Warmup"
   ]
  },
  {
   "cell_type": "code",
   "execution_count": 2,
   "metadata": {},
   "outputs": [],
   "source": [
    "from collections import Counter\n",
    "en_de = open(\"europarl-v7.de-en.lc.en\", \"r\", encoding=\"utf-8\").read()\n",
    "en_fr = open(\"europarl-v7.fr-en.lc.en\", \"r\", encoding=\"utf-8\").read()\n",
    "en_sv = open(\"europarl-v7.sv-en.lc.en\", \"r\", encoding=\"utf-8\").read()\n",
    "en = en_de + \" \" + en_fr + \" \" + en_sv\n",
    "\n",
    "de = open(\"europarl-v7.de-en.lc.de\", \"r\", encoding=\"utf-8\").read()\n",
    "fr = open(\"europarl-v7.fr-en.lc.fr\", \"r\", encoding=\"utf-8\").read()\n",
    "sv = open(\"europarl-v7.sv-en.lc.sv\", \"r\", encoding=\"utf-8\").read()\n",
    "\n",
    "all_ = en + \" \" + de + \" \" + fr + \" \" + sv"
   ]
  },
  {
   "cell_type": "code",
   "execution_count": 3,
   "metadata": {},
   "outputs": [
    {
     "data": {
      "text/plain": [
       "str"
      ]
     },
     "execution_count": 3,
     "metadata": {},
     "output_type": "execute_result"
    }
   ],
   "source": [
    "type(en)"
   ]
  },
  {
   "cell_type": "code",
   "execution_count": 806,
   "metadata": {},
   "outputs": [
    {
     "data": {
      "text/plain": [
       "[('the', 58790),\n",
       " (',', 42043),\n",
       " ('.', 29542),\n",
       " ('of', 28406),\n",
       " ('to', 26842),\n",
       " ('and', 21459),\n",
       " ('in', 18485),\n",
       " ('is', 13331),\n",
       " ('that', 13219),\n",
       " ('a', 13090),\n",
       " ('we', 9936),\n",
       " ('this', 9916)]"
      ]
     },
     "execution_count": 806,
     "metadata": {},
     "output_type": "execute_result"
    }
   ],
   "source": [
    "Counter(en.split()).most_common(12)"
   ]
  },
  {
   "cell_type": "code",
   "execution_count": 807,
   "metadata": {},
   "outputs": [
    {
     "data": {
      "text/plain": [
       "[(',', 18549),\n",
       " ('die', 10521),\n",
       " ('.', 9733),\n",
       " ('der', 9374),\n",
       " ('und', 7028),\n",
       " ('in', 4175),\n",
       " ('zu', 3168),\n",
       " ('den', 2976),\n",
       " ('wir', 2863),\n",
       " ('daß', 2738),\n",
       " ('ich', 2670),\n",
       " ('das', 2669)]"
      ]
     },
     "execution_count": 807,
     "metadata": {},
     "output_type": "execute_result"
    }
   ],
   "source": [
    "Counter(de.split()).most_common(12)"
   ]
  },
  {
   "cell_type": "code",
   "execution_count": 808,
   "metadata": {},
   "outputs": [
    {
     "data": {
      "text/plain": [
       "[('&apos;', 16729),\n",
       " (',', 15402),\n",
       " ('de', 14520),\n",
       " ('la', 9746),\n",
       " ('.', 9734),\n",
       " ('et', 6619),\n",
       " ('l', 6536),\n",
       " ('le', 6174),\n",
       " ('les', 5585),\n",
       " ('à', 5500),\n",
       " ('des', 5232),\n",
       " ('que', 4797),\n",
       " ('d', 4555)]"
      ]
     },
     "execution_count": 808,
     "metadata": {},
     "output_type": "execute_result"
    }
   ],
   "source": [
    "Counter(fr.split()).most_common(13)"
   ]
  },
  {
   "cell_type": "code",
   "execution_count": 809,
   "metadata": {},
   "outputs": [
    {
     "data": {
      "text/plain": [
       "[('.', 9648),\n",
       " ('att', 9181),\n",
       " (',', 8876),\n",
       " ('och', 7038),\n",
       " ('i', 5949),\n",
       " ('det', 5687),\n",
       " ('som', 5028),\n",
       " ('för', 4959),\n",
       " ('av', 4013),\n",
       " ('är', 3840),\n",
       " ('en', 3724),\n",
       " ('vi', 3211),\n",
       " ('jag', 3093)]"
      ]
     },
     "execution_count": 809,
     "metadata": {},
     "output_type": "execute_result"
    }
   ],
   "source": [
    "Counter(sv.split()).most_common(13)"
   ]
  },
  {
   "cell_type": "code",
   "execution_count": 814,
   "metadata": {},
   "outputs": [],
   "source": [
    "all_counter = Counter(all_.split())"
   ]
  },
  {
   "cell_type": "markdown",
   "metadata": {},
   "source": [
    "The probabilities are found by taking the frequency of a given word and divide by the total number of words:"
   ]
  },
  {
   "cell_type": "code",
   "execution_count": 815,
   "metadata": {},
   "outputs": [
    {
     "data": {
      "text/plain": [
       "1.9327394942430718e-05"
      ]
     },
     "execution_count": 815,
     "metadata": {},
     "output_type": "execute_result"
    }
   ],
   "source": [
    "all_counter[\"speaker\"]/sum(all_counter.values())"
   ]
  },
  {
   "cell_type": "code",
   "execution_count": 816,
   "metadata": {},
   "outputs": [
    {
     "data": {
      "text/plain": [
       "0.0"
      ]
     },
     "execution_count": 816,
     "metadata": {},
     "output_type": "execute_result"
    }
   ],
   "source": [
    "all_counter[\"zebra\"]/sum(all_counter.values())"
   ]
  },
  {
   "cell_type": "code",
   "execution_count": 28,
   "metadata": {},
   "outputs": [],
   "source": [
    "sentences = nltk.tokenize.sent_tokenize(all_)"
   ]
  },
  {
   "cell_type": "code",
   "execution_count": 29,
   "metadata": {},
   "outputs": [
    {
     "data": {
      "text/plain": [
       "'i declare resumed the session of the european parliament adjourned on friday 17 december 1999 , and i would like once again to wish you a happy new year in the hope that you enjoyed a pleasant festive period .'"
      ]
     },
     "execution_count": 29,
     "metadata": {},
     "output_type": "execute_result"
    }
   ],
   "source": [
    "sentences[0]"
   ]
  },
  {
   "cell_type": "markdown",
   "metadata": {},
   "source": [
    "### b) Language modeling"
   ]
  },
  {
   "cell_type": "markdown",
   "metadata": {},
   "source": [
    "If a word did not exist in the training data, its probability will be 0. This can be fixed by using laplace smoothing. This corresponds to initializing the frequency of all words to 1. A long sentence will lead to multiplying many small numbers together which will become very small. A solution is to us the log-probabilities instead."
   ]
  },
  {
   "cell_type": "code",
   "execution_count": 3,
   "metadata": {},
   "outputs": [],
   "source": [
    "import nltk\n",
    "from collections import Counter, defaultdict\n",
    "import math\n",
    "\n",
    "def train_model(data):\n",
    "    model = defaultdict(lambda: defaultdict(lambda: 0))\n",
    "\n",
    "    # Split data into sentences\n",
    "    sentences = data.splitlines()\n",
    "\n",
    "    # For each sentence, compute frequency of w2 arriving after w1 \n",
    "    for sentence in sentences:\n",
    "        for w1, w2 in nltk.bigrams(sentence.split()[:-1], pad_right=True, pad_left=True):\n",
    "            model[w1][w2] += 1\n",
    "    return model"
   ]
  },
  {
   "cell_type": "code",
   "execution_count": 4,
   "metadata": {},
   "outputs": [],
   "source": [
    "model = train_model(en_sv)\n",
    "def language_model(sentence, model):\n",
    "    words = sentence.split()\n",
    "    start_count = float(sum(model[None].values()))\n",
    "    prob = math.log( (model[None][words[0]] + 0.001) / (start_count+len(model[None])*0.001)) # laplace lambda smoothing on first word\n",
    "    #prob = math.log( (model[None][words[0]]) / (start_count)) # laplace lambda smoothing on first word\n",
    "    #prob = (model[None][words[0]]) / (start_count)\n",
    "    for w1, w2 in nltk.bigrams(words, pad_right=False, pad_left=False):\n",
    "        #print(w1,w2)\n",
    "        #print(total_count)\n",
    "        prob_now = 0\n",
    "        total_count = float(sum(model[w1].values()))\n",
    "        p = (model[w1][w2]+0.001) / (total_count+len(model[w1])*0.001) # laplace lambda smoothing\n",
    "        #p = (model[w1][w2]) / (total_count) # laplace lambda smoothing\n",
    "        #model[w1][w2] = (model[w1][w2]) / (total_count) # laplace lambda smoothing\n",
    "        prob = prob + math.log(p) # Log probabilities\n",
    "        #prob = prob * model[w1][w2]\n",
    "    return prob"
   ]
  },
  {
   "cell_type": "code",
   "execution_count": 6,
   "metadata": {},
   "outputs": [
    {
     "data": {
      "text/plain": [
       "2.002361613074967e-05"
      ]
     },
     "execution_count": 6,
     "metadata": {},
     "output_type": "execute_result"
    }
   ],
   "source": [
    "math.exp(language_model(\"our member states\", model))"
   ]
  },
  {
   "cell_type": "code",
   "execution_count": 7,
   "metadata": {},
   "outputs": [
    {
     "data": {
      "text/plain": [
       "1.4234695149217394e-12"
      ]
     },
     "execution_count": 7,
     "metadata": {},
     "output_type": "execute_result"
    }
   ],
   "source": [
    "math.exp(language_model(\"member our states\", model))"
   ]
  },
  {
   "cell_type": "markdown",
   "metadata": {},
   "source": [
    "We can now compute $P(E)$"
   ]
  },
  {
   "cell_type": "markdown",
   "metadata": {},
   "source": [
    "### c) Translation modeling"
   ]
  },
  {
   "cell_type": "code",
   "execution_count": 35,
   "metadata": {},
   "outputs": [
    {
     "name": "stdout",
     "output_type": "stream",
     "text": [
      "[('.', 0.03591034653913155), (',', 0.03372474830401548), ('att', 0.03332533292239441), ('och', 0.028216364762232687), ('i', 0.027025686545253), ('europeiska', 0.02597178687247437), ('det', 0.020548575860822177), ('för', 0.01956648122988557), ('som', 0.018686658041077588), ('en', 0.017656463635023014)]\n",
      "[('europeiska', 0.16755995477109858), ('.', 0.05111446624924288), (',', 0.047113972999060276), ('att', 0.044936728607888374), ('i', 0.0439457468882919), ('och', 0.040990894746709354), ('en', 0.028060265892112347), ('för', 0.027456514082219212), ('unionen', 0.02710952557008033), ('det', 0.027010613200927517)]\n",
      "[('europeiska', 0.3999353271255518), ('i', 0.04029466146199781), ('.', 0.03957039283243889), (',', 0.03726033558457288), ('att', 0.03416472425393751), ('och', 0.033111329979174), ('europeisk', 0.03222043498307792), ('unionen', 0.029840331102603732), ('en', 0.025488676146094496), ('den', 0.024758186528307996)]\n",
      "[('europeiska', 0.5716593290434614), ('europeisk', 0.042219696757371), ('i', 0.03304750888631227), ('.', 0.027757692310377877), (',', 0.026510108776129665), ('att', 0.023739155629942), ('och', 0.023457943339268844), ('den', 0.02177245693804311), ('unionen', 0.02137438286026325), ('europaparlamentet', 0.02048948464529695)]\n",
      "[('europeiska', 0.676669594402242), ('europeisk', 0.04964457030230529), ('i', 0.027276598023511307), ('.', 0.01968215059283706), ('den', 0.019173679875087803), (',', 0.019068200355659613), ('att', 0.01685533659286558), ('och', 0.016631077040127933), ('europaparlamentet', 0.016122311605604907), ('en', 0.01582854903548991)]\n",
      "[('europeiska', 0.7413889908540344), ('europeisk', 0.05588425477831991), ('i', 0.02312092461004659), ('den', 0.01720449170180861), ('.', 0.01432553713285935), (',', 0.01414410455249796), ('en', 0.012861950263567817), ('att', 0.012361279791623724), ('och', 0.012162459390752042), ('europaparlamentet', 0.01186078435014985)]\n",
      "[('europeiska', 0.7828857748022445), ('europeisk', 0.06136366536565766), ('i', 0.020080419121468834), ('den', 0.01566294351565134), ('en', 0.010803311591158642), (',', 0.010792955419502375), ('.', 0.01066212107505383), ('att', 0.009303068302841354), ('och', 0.009194441436997181), ('europaparlamentet', 0.008458733359257023)]\n",
      "[('europeiska', 0.8103736018361043), ('europeisk', 0.0662075710855376), ('i', 0.01777276138986924), ('den', 0.01438910898624399), ('en', 0.00932451506569945), (',', 0.008426701480569584), ('.', 0.008071304852094367), ('och', 0.007157031187106833), ('att', 0.0071366101175515265), ('europaparlamentet', 0.005942847824196722)]\n",
      "[('europeiska', 0.829110538740317), ('europeisk', 0.07047845467735513), ('i', 0.015956265110397515), ('den', 0.01329508124398976), ('en', 0.008215295800391813), (',', 0.006700456693823119), ('.', 0.006190319917968365), ('och', 0.00570986370697236), ('att', 0.005553954819842967), ('till', 0.005205722411667961)]\n",
      "[('europeiska', 0.8422609571174579), ('europeisk', 0.07422650340065175), ('i', 0.014477437086810312), ('den', 0.01233393763519077), ('en', 0.007346652372925064), (',', 0.005405578426447147), ('.', 0.004797030910018389), ('till', 0.004686005898477835), ('och', 0.004648178740809186), ('att', 0.004370668143854596)]\n",
      "[('europeiska', 0.8517605876615674), ('europeisk', 0.07750525544534254), ('i', 0.013236413512942259), ('den', 0.011478619902817419), ('en', 0.006640142708036643), (',', 0.004411213718592315), ('till', 0.004261508038680692), ('och', 0.003845682193471899), ('.', 0.0037485681154658407), ('att', 0.0034699197472872756)]\n",
      "[('europeiska', 0.858814061265775), ('europeisk', 0.08037127683439747), ('i', 0.012167296240388705), ('den', 0.010711480779359649), ('en', 0.00604782812258614), ('till', 0.00390552467805167), (',', 0.0036327529897047534), ('och', 0.0032225127705783957), ('.', 0.0029494596299357214), ('att', 0.002774338032868995)]\n",
      "[('europeiska', 0.8641846205958541), ('europeisk', 0.08288155242956237), ('i', 0.01122629206020729), ('den', 0.01001928300305469), ('en', 0.00553968688153814), ('till', 0.0036003222631670767), (',', 0.003013678229965546), ('och', 0.0027269875176008786), ('.', 0.0023339851237588567), ('för', 0.0022884354177243825)]\n",
      "[('europeiska', 0.8683644484776324), ('europeisk', 0.08508984583035253), ('i', 0.01038423099629007), ('den', 0.009391191750099354), ('en', 0.005096253511353947), ('till', 0.003333890438862743), (',', 0.0025149677234785972), ('och', 0.0023249742269168144), ('för', 0.001932194142339005), ('.', 0.0018558215067275056)]\n",
      "[('europeiska', 0.8716841552266698), ('europeisk', 0.08703743036859997), ('i', 0.009621667595756547), ('den', 0.008818460101401308), ('en', 0.004704617894469802), ('till', 0.003097958789286651), (',', 0.0021089351998627892), ('och', 0.0019935029482617377), ('för', 0.0016355253196139595), ('.', 0.0014816675576300386)]\n",
      "[('europeiska', 0.8743697139400727), ('europeisk', 0.08875776903891515), ('i', 0.008925395706722674), ('den', 0.008294484087585161), ('en', 0.004356094126102736), ('till', 0.0028866805058659645), (',', 0.001775466782859341), ('och', 0.001716741392899413), ('för', 0.0013872079619136968), ('att', 0.0011888356789146455)]\n",
      "[('europeiska', 0.8765753336315741), ('europeisk', 0.09028200974363815), ('i', 0.008286074011281334), ('den', 0.007814381677559067), ('en', 0.004044545971558291), ('till', 0.0026957780676292206), (',', 0.0014996243893461159), ('och', 0.0014834261187828535), ('för', 0.0011785498134118263), ('om', 0.001032535067484841)]\n",
      "[('europeiska', 0.8784098255968109), ('europeisk', 0.09163752476552176), ('i', 0.007696814803628078), ('den', 0.007374083708140711), ('en', 0.003765180623716327), ('till', 0.0025220228557581753), ('och', 0.0012852663217548578), (',', 0.0012700926289866328), ('för', 0.0010026749417859798), ('om', 0.0009167849661938376)]\n",
      "[('europeiska', 0.8799528359411611), ('europeisk', 0.09284754112643466), ('i', 0.007152421615401665), ('den', 0.006969553623365269), ('en', 0.003513913623399362), ('till', 0.0023629069274927043), ('och', 0.0011159726799292139), (',', 0.0010781483554178556), ('för', 0.0008540554975053484), ('om', 0.0008157315397338126)]\n",
      "[('europeiska', 0.8812641752210326), ('europeisk', 0.09393158661684788), ('i', 0.006648947960400878), ('den', 0.006596499304729936), ('en', 0.0032871645183533485), ('till', 0.0022164395630856824), ('och', 0.0009706590858290876), (',', 0.0009169651167587169), ('för', 0.0007281971068074637), ('om', 0.0007271466351933387)]\n",
      "[('europeiska', 0.8823896991761078), ('europeisk', 0.09490587723088738), ('den', 0.006250416855361504), ('i', 0.00618329049237557), ('en', 0.0030818211797635645), ('till', 0.0020810207635308287), ('och', 0.000845457336834619), (',', 0.0007811338409227075), ('om', 0.0006491987208383731), ('för', 0.0006214178214160781)]\n",
      "[('europeiska', 0.8833653190226205), ('europeisk', 0.0957837712824936), ('den', 0.005926781812776672), ('i', 0.005752782463969414), ('en', 0.0028952168850203104), ('till', 0.001955355295731078), ('och', 0.0007372567118964675), (',', 0.0006663243389499405), ('om', 0.000580376012097849), ('för', 0.0005306836224137623)]\n",
      "[('europeiska', 0.8842195941103675), ('europeisk', 0.09657644133814808), ('den', 0.005621369532842496), ('i', 0.005354919454426184), ('en', 0.002725079898592508), ('till', 0.0018383868929936814), ('och', 0.0006435214283600661), (',', 0.0005690395000285566), ('om', 0.0005194252759015462), ('för', 0.00045348159253640074)]\n",
      "[('europeiska', 0.884975131916147), ('europeisk', 0.09729353406954029), ('den', 0.005330705188713848), ('i', 0.004987258584569747), ('en', 0.002569465770812944), ('till', 0.0017292451923453871), ('och', 0.0005621599119672977), (',', 0.0004864316938267013), ('om', 0.00046530195181177024), ('för', 0.00038772055797508837)]\n",
      "[('europeiska', 0.8856493851589224), ('europeisk', 0.09794355639073148), ('den', 0.005052486569007941), ('i', 0.004647424754166952), ('en', 0.0024266889224671797), ('till', 0.0016272040043219596), ('och', 0.0004914301743241965), ('om', 0.00041712976557568154), (',', 0.0004161638204084728), ('för', 0.00033165252283590515)]\n",
      "[('europeiska', 0.8862554683688497), ('europeisk', 0.09853401741100326), ('den', 0.004785697747553504), ('i', 0.004333150910956852), ('en', 0.0022952672602444832), ('till', 0.001531649472028631), ('och', 0.0004298696720071428), ('om', 0.00037416855224456087), (',', 0.0003563042478672682), ('för', 0.0002838101602965)]\n",
      "[('europeiska', 0.8868031876974445), ('europeisk', 0.09907149631729208), ('den', 0.004530292393825691), ('i', 0.00404231327869756), ('en', 0.0021738907880490825), ('till', 0.0014420558919249575), ('och', 0.0003762407285802964), ('om', 0.00033578881075579177), (',', 0.0003052472211017962), ('för', 0.00024295735690068319)]\n",
      "[('europeiska', 0.8873000836753715), ('europeisk', 0.09956173026429906), ('den', 0.004286654130180804), ('i', 0.0037729504762375916), ('en', 0.0020614174094274397), ('till', 0.0013579673991557305), ('och', 0.0003294870442073144), ('om', 0.00030145160806513795), (',', 0.000261651686643733), ('för', 0.0002080504738409558)]\n"
     ]
    },
    {
     "ename": "KeyboardInterrupt",
     "evalue": "",
     "output_type": "error",
     "traceback": [
      "\u001b[0;31m---------------------------------------------------------------------------\u001b[0m",
      "\u001b[0;31mKeyboardInterrupt\u001b[0m                         Traceback (most recent call last)",
      "\u001b[0;32m<ipython-input-35-528cafb77057>\u001b[0m in \u001b[0;36m<module>\u001b[0;34m\u001b[0m\n\u001b[1;32m     40\u001b[0m \u001b[0;34m\u001b[0m\u001b[0m\n\u001b[1;32m     41\u001b[0m     \u001b[0;31m# estimate probability\u001b[0m\u001b[0;34m\u001b[0m\u001b[0;34m\u001b[0m\u001b[0;34m\u001b[0m\u001b[0m\n\u001b[0;32m---> 42\u001b[0;31m     \u001b[0;32mfor\u001b[0m \u001b[0;34m(\u001b[0m\u001b[0mf\u001b[0m\u001b[0;34m,\u001b[0m \u001b[0me\u001b[0m\u001b[0;34m)\u001b[0m \u001b[0;32min\u001b[0m \u001b[0mcount\u001b[0m\u001b[0;34m.\u001b[0m\u001b[0mkeys\u001b[0m\u001b[0;34m(\u001b[0m\u001b[0;34m)\u001b[0m\u001b[0;34m:\u001b[0m\u001b[0;34m\u001b[0m\u001b[0;34m\u001b[0m\u001b[0m\n\u001b[0m\u001b[1;32m     43\u001b[0m         \u001b[0;31m#if count[(f, e)] == 0:\u001b[0m\u001b[0;34m\u001b[0m\u001b[0;34m\u001b[0m\u001b[0;34m\u001b[0m\u001b[0m\n\u001b[1;32m     44\u001b[0m             \u001b[0;31m#print(f, e, count[(f, e)])\u001b[0m\u001b[0;34m\u001b[0m\u001b[0;34m\u001b[0m\u001b[0;34m\u001b[0m\u001b[0m\n",
      "\u001b[0;31mKeyboardInterrupt\u001b[0m: "
     ]
    }
   ],
   "source": [
    "#def run_em(lang1, lang2, n):\n",
    "import collections\n",
    "lang1 = sv\n",
    "lang2 = en_sv\n",
    "#lang1 = en_sv\n",
    "#lang2 = sv\n",
    "n = 100\n",
    "\n",
    "n_words = len(set(lang2.split()))\n",
    "lang1 = lang1.splitlines()\n",
    "lang2 = lang2.splitlines()\n",
    "#t = collections.defaultdict(lambda: 1/n_words)\n",
    "t = defaultdict(lambda: defaultdict(lambda: 1/n_words))\n",
    "\n",
    "# E/M algorithm\n",
    "for i in range(n):\n",
    "    corpus = zip(lang1, lang2)\n",
    "    count = collections.defaultdict(float)\n",
    "    total = collections.defaultdict(float)\n",
    "    s_total = collections.defaultdict(float)\n",
    "    for (l1, l2) in corpus:\n",
    "        # compute normalization\n",
    "\n",
    "        l1 = l1.split()\n",
    "        l2 = l2.split()\n",
    "        # Insert null word at start\n",
    "        l2.insert(0,\"NULL\")\n",
    "        #print(l1)\n",
    "\n",
    "        for f in l1:\n",
    "            s_total[f] = 0.0\n",
    "            for e in l2:\n",
    "                s_total[f] += t[f][e]\n",
    "\n",
    "        for f in l1:\n",
    "            for e in l2:\n",
    "                delta = t[f][e] / s_total[f]\n",
    "                count[(e, f)] += delta\n",
    "                total[e] += delta\n",
    "\n",
    "    # estimate probability\n",
    "    for (f, e) in count.keys():\n",
    "        #if count[(f, e)] == 0:\n",
    "            #print(f, e, count[(f, e)])\n",
    "        t[f][e] = count[(f, e)] / total[e]\n",
    "\n",
    "    #print(Counter(t[\"europeiska\"]).most_common(10))\n",
    "    # Find the words that are most likely to align with the word european\n",
    "    test = []\n",
    "    for w in t:\n",
    "        #prob = ws[\"european\"]\n",
    "        prob = t[w][\"european\"]\n",
    "        test.append((w, prob))\n",
    "    print(sorted(test, key=lambda x: x[1], reverse=True)[0:10])\n",
    "    #print(\"\\n\")\n",
    "    #print(\"test\")\n",
    "    #return t"
   ]
  },
  {
   "cell_type": "code",
   "execution_count": 42,
   "metadata": {},
   "outputs": [],
   "source": [
    "def translation_model(in_sentence, out_sentence, t):\n",
    "    words = in_sentence.split()\n",
    "    words2 = out_sentence.split()\n",
    "    prob = 0\n",
    "    for w1 in words:\n",
    "        max_prob = 0\n",
    "        for w2 in words2:\n",
    "            temp_prob = t[w1][w2]\n",
    "            if temp_prob > max_prob:\n",
    "                max_prob = temp_prob\n",
    "        #print(max_prob)\n",
    "        prob += math.log(max_prob) #+ math.log(1/len(out_sentence))\n",
    "    return prob"
   ]
  },
  {
   "cell_type": "code",
   "execution_count": 43,
   "metadata": {},
   "outputs": [
    {
     "data": {
      "text/plain": [
       "-1.0253785500545938"
      ]
     },
     "execution_count": 43,
     "metadata": {},
     "output_type": "execute_result"
    }
   ],
   "source": [
    "translation_model(\"jag är bra\", \"i is good\", t)"
   ]
  },
  {
   "cell_type": "code",
   "execution_count": 11,
   "metadata": {},
   "outputs": [
    {
     "data": {
      "text/plain": [
       "-12.550998882407782"
      ]
     },
     "execution_count": 11,
     "metadata": {},
     "output_type": "execute_result"
    }
   ],
   "source": [
    "translation_model(\"jag är bra\", \"i is bad\", t)"
   ]
  },
  {
   "cell_type": "markdown",
   "metadata": {},
   "source": [
    "The above function computes $P(F | E, A)$"
   ]
  },
  {
   "cell_type": "markdown",
   "metadata": {},
   "source": [
    "### d) Decoding"
   ]
  },
  {
   "cell_type": "markdown",
   "metadata": {},
   "source": [
    "The most simple case: Only consider translation model based on most probable alignment"
   ]
  },
  {
   "cell_type": "code",
   "execution_count": 12,
   "metadata": {},
   "outputs": [],
   "source": [
    "def simple_decode(sentence, t):\n",
    "    words = sentence.split()\n",
    "    eng = \"\"\n",
    "    for word in words:\n",
    "        if len(t[word]) == 0:\n",
    "            eng += word + \" \"\n",
    "        else:\n",
    "            eng += Counter(t[word]).most_common(1)[0][0] + \" \"\n",
    "    return eng.strip()"
   ]
  },
  {
   "cell_type": "code",
   "execution_count": 18,
   "metadata": {},
   "outputs": [
    {
     "data": {
      "text/plain": [
       "[('in', 0.7017256406325446),\n",
       " ('into', 0.4937823209075722),\n",
       " ('treaty', 0.39795004259109684)]"
      ]
     },
     "execution_count": 18,
     "metadata": {},
     "output_type": "execute_result"
    }
   ],
   "source": [
    "Counter(t[\"i\"]).most_common(3)"
   ]
  },
  {
   "cell_type": "code",
   "execution_count": 19,
   "metadata": {},
   "outputs": [
    {
     "data": {
      "text/plain": [
       "'very good is i'"
      ]
     },
     "execution_count": 19,
     "metadata": {},
     "output_type": "execute_result"
    }
   ],
   "source": [
    "simple_decode(\"mycket bra är jag\", t)"
   ]
  },
  {
   "cell_type": "code",
   "execution_count": 20,
   "metadata": {},
   "outputs": [
    {
     "data": {
      "text/plain": [
       "'i is very good'"
      ]
     },
     "execution_count": 20,
     "metadata": {},
     "output_type": "execute_result"
    }
   ],
   "source": [
    "simple_decode(\"jag är mycket bra\", t)"
   ]
  },
  {
   "cell_type": "code",
   "execution_count": 24,
   "metadata": {},
   "outputs": [
    {
     "data": {
      "text/plain": [
       "'mr president i'"
      ]
     },
     "execution_count": 24,
     "metadata": {},
     "output_type": "execute_result"
    }
   ],
   "source": [
    "simple_decode(\"herr talman jag\", t)"
   ]
  },
  {
   "cell_type": "code",
   "execution_count": 25,
   "metadata": {},
   "outputs": [
    {
     "data": {
      "text/plain": [
       "'our states'"
      ]
     },
     "execution_count": 25,
     "metadata": {},
     "output_type": "execute_result"
    }
   ],
   "source": [
    "simple_decode(\"våra medlemsstater\", t)"
   ]
  },
  {
   "cell_type": "markdown",
   "metadata": {},
   "source": [
    "The implementation below will construct a set of candidate translations based on the 3 msot probably alignments for each word in the swedish sentence. It will pick the sentence that maximizes $P(E) * P(F | E)$."
   ]
  },
  {
   "cell_type": "code",
   "execution_count": 39,
   "metadata": {},
   "outputs": [],
   "source": [
    "from itertools import permutations \n",
    "\n",
    "def permute(l):\n",
    "    if len(l) == 1:\n",
    "        return l[0]\n",
    "    else:   \n",
    "        lnew = []\n",
    "        for a in l[0]:\n",
    "            for b in permute(l[1:]):\n",
    "                lnew.append(a+\" \" + b)\n",
    "        return lnew\n",
    "    \n",
    "def decode(swe, t, model):\n",
    "    words = swe.split()\n",
    "    candidate_sentences = []\n",
    "    # Find the 3 english words that are most probable to be aligned with each swedish word\n",
    "    for word in words:\n",
    "        sentence = []\n",
    "        mc = Counter(t[word]).most_common(3)\n",
    "        for i,_ in mc:\n",
    "            sentence.append(i)\n",
    "        candidate_sentences.append(sentence)\n",
    "    perm_sentences = permute(candidate_sentences)\n",
    "    \n",
    "    max_prob = -np.inf\n",
    "    best_sentence = \"UNKNOWN\"\n",
    "    for s in perm_sentences:\n",
    "        perm = list(permutations(s.split()))\n",
    "        for p in perm:\n",
    "            eng_sentence = ' '.join(p)\n",
    "            prob = language_model(eng_sentence, model) + translation_model(swe, eng_sentence, t)\n",
    "            if prob >= max_prob:\n",
    "                max_prob = prob\n",
    "                best_sentence = eng_sentence\n",
    "    return best_sentence"
   ]
  },
  {
   "cell_type": "code",
   "execution_count": 39,
   "metadata": {},
   "outputs": [
    {
     "data": {
      "text/plain": [
       "[('court', 0.2908739985965263),\n",
       " ('acquitted', 0.15787944446357263),\n",
       " ('referrals', 0.026387736694697846),\n",
       " ('non-application', 0.026387736694697846),\n",
       " ('non-transposition', 0.026387736694697846)]"
      ]
     },
     "execution_count": 39,
     "metadata": {},
     "output_type": "execute_result"
    }
   ],
   "source": [
    "Counter(t[\"domstolen\"]).most_common(5)"
   ]
  },
  {
   "cell_type": "code",
   "execution_count": 28,
   "metadata": {},
   "outputs": [
    {
     "data": {
      "text/plain": [
       "'i am good'"
      ]
     },
     "execution_count": 28,
     "metadata": {},
     "output_type": "execute_result"
    }
   ],
   "source": [
    "decode(\"jag är bra\", t, model)"
   ]
  },
  {
   "cell_type": "code",
   "execution_count": 29,
   "metadata": {},
   "outputs": [
    {
     "data": {
      "text/plain": [
       "'i am very good'"
      ]
     },
     "execution_count": 29,
     "metadata": {},
     "output_type": "execute_result"
    }
   ],
   "source": [
    "decode(\"jag är mycket bra\", t, model)"
   ]
  },
  {
   "cell_type": "code",
   "execution_count": 30,
   "metadata": {},
   "outputs": [
    {
     "data": {
      "text/plain": [
       "'i am very good'"
      ]
     },
     "execution_count": 30,
     "metadata": {},
     "output_type": "execute_result"
    }
   ],
   "source": [
    "decode(\"mycket bra är jag\", t, model)"
   ]
  },
  {
   "cell_type": "code",
   "execution_count": 31,
   "metadata": {},
   "outputs": [
    {
     "data": {
      "text/plain": [
       "'i am very good'"
      ]
     },
     "execution_count": 31,
     "metadata": {},
     "output_type": "execute_result"
    }
   ],
   "source": [
    "decode(\"jag mycket är bra\", t, model)"
   ]
  },
  {
   "cell_type": "code",
   "execution_count": 32,
   "metadata": {},
   "outputs": [
    {
     "data": {
      "text/plain": [
       "'our member'"
      ]
     },
     "execution_count": 32,
     "metadata": {},
     "output_type": "execute_result"
    }
   ],
   "source": [
    "decode(\"våra medlemsstater\", t, model)"
   ]
  },
  {
   "cell_type": "code",
   "execution_count": 33,
   "metadata": {},
   "outputs": [
    {
     "data": {
      "text/plain": [
       "'i know if i want'"
      ]
     },
     "execution_count": 33,
     "metadata": {},
     "output_type": "execute_result"
    }
   ],
   "source": [
    "decode(\"jag vill vet om jag\", t, model)"
   ]
  },
  {
   "cell_type": "code",
   "execution_count": 35,
   "metadata": {},
   "outputs": [
    {
     "data": {
      "text/plain": [
       "'have acquitted acquitted him'"
      ]
     },
     "execution_count": 35,
     "metadata": {},
     "output_type": "execute_result"
    }
   ],
   "source": [
    "decode(\"domstolen har friat honom\", t, model)"
   ]
  },
  {
   "cell_type": "code",
   "execution_count": 36,
   "metadata": {},
   "outputs": [
    {
     "data": {
      "text/plain": [
       "'court has acquitted him'"
      ]
     },
     "execution_count": 36,
     "metadata": {},
     "output_type": "execute_result"
    }
   ],
   "source": [
    "simple_decode(\"domstolen har friat honom\", t)"
   ]
  },
  {
   "cell_type": "code",
   "execution_count": 1010,
   "metadata": {},
   "outputs": [
    {
     "data": {
      "text/plain": [
       "-11.130075819478984"
      ]
     },
     "execution_count": 1010,
     "metadata": {},
     "output_type": "execute_result"
    }
   ],
   "source": [
    "language_model(\"our states\", model)"
   ]
  },
  {
   "cell_type": "code",
   "execution_count": 1085,
   "metadata": {},
   "outputs": [
    {
     "data": {
      "text/plain": [
       "-2.8656150459222722"
      ]
     },
     "execution_count": 1085,
     "metadata": {},
     "output_type": "execute_result"
    }
   ],
   "source": [
    "translation_model(\"våra medlemsstater\", \"our member\", t)"
   ]
  },
  {
   "cell_type": "code",
   "execution_count": 1086,
   "metadata": {},
   "outputs": [
    {
     "data": {
      "text/plain": [
       "-2.600741149878915"
      ]
     },
     "execution_count": 1086,
     "metadata": {},
     "output_type": "execute_result"
    }
   ],
   "source": [
    "translation_model(\"våra medlemsstater\", \"our states\", t)"
   ]
  },
  {
   "cell_type": "code",
   "execution_count": null,
   "metadata": {},
   "outputs": [],
   "source": []
  }
 ],
 "metadata": {
  "kernelspec": {
   "display_name": "Python 3",
   "language": "python",
   "name": "python3"
  },
  "language_info": {
   "codemirror_mode": {
    "name": "ipython",
    "version": 3
   },
   "file_extension": ".py",
   "mimetype": "text/x-python",
   "name": "python",
   "nbconvert_exporter": "python",
   "pygments_lexer": "ipython3",
   "version": "3.6.8"
  }
 },
 "nbformat": 4,
 "nbformat_minor": 4
}
