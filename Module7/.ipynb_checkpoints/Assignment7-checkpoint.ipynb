{
 "cells": [
  {
   "cell_type": "code",
   "execution_count": 1,
   "metadata": {
    "pycharm": {
     "is_executing": false
    }
   },
   "outputs": [],
   "source": [
    "import numpy as np\n",
    "\n",
    "import pandas as pd\n",
    "import re"
   ]
  },
  {
   "cell_type": "code",
   "execution_count": 3,
   "metadata": {
    "pycharm": {
     "is_executing": false
    }
   },
   "outputs": [],
   "source": [
    "\n",
    "class FakeDatabase:\n",
    "    # return weather based on loc/time (just did something random)\n",
    "    def get_weather(self, location, weekday):\n",
    "        location = location.lower()\n",
    "        weekday = weekday.lower()\n",
    "        \n",
    "               \n",
    "        if weekday == \"monday\":\n",
    "            return \"rainy\"\n",
    "        if weekday == \"tuesday\":\n",
    "            return \"cloudy\"\n",
    "        if weekday == \"wednesday\":\n",
    "            return \"cloudy with rain\"\n",
    "        if weekday == \"thursday\":\n",
    "            return \"windy\"\n",
    "        if weekday == \"friday\":\n",
    "            return \"sparsely cloudy with some sunshine\"\n",
    "        if weekday == \"saturday\":\n",
    "            return \"very rainy\"\n",
    "        if weekday == \"sunday\":\n",
    "            return \"sunny\"\n",
    "        \n",
    "\n",
    "    \n",
    "    # return restaurant based on loc/time\n",
    "    def get_restaurant(self, price, food, area):\n",
    "        if food.split()[0] == \"thai\":\n",
    "            return {\"name\": \"Thai Food House\", \"address\": \"Eklandagatan 76\"}\n",
    "    \n",
    "        if food.split()[0] == \"italian\":\n",
    "            return {\"name\": \"La Cucina Italiana\", \"address\": \"Gibraltargatan 98\"}\n",
    "        \n",
    "        if food.split()[0] == \"mexican\":\n",
    "            return {\"name\": \"Fonda doña Lupita\", \"address\": \"Kungsgatan 20\"}\n",
    "        \n",
    "        if food.split()[0] == \"greek\":\n",
    "            return {\"name\": \"Agios Aggelios\", \"address\": \"Medicinaregatan 98\"}\n",
    "        \n",
    "        if food.split()[0] == \"chinese\":\n",
    "            return {\"name\": \"Noodle house\", \"address\": \"Avenyn 1200\"}\n",
    "    \n",
    "    \n",
    "    # return next bus/tram based on origin/destination/time\n",
    "    def get_transport(self, origin, destination, time):\n",
    "        return {\"type\": \"bus\", \"time\": \"12:35 PM\"}\n",
    "    "
   ]
  },
  {
   "cell_type": "code",
   "execution_count": 4,
   "metadata": {
    "pycharm": {
     "is_executing": false
    }
   },
   "outputs": [],
   "source": [
    "class Frame:\n",
    "    def __init__(self, database, domain, intent):\n",
    "        self.database = database\n",
    "        self.domain = domain\n",
    "        self.intent = intent\n",
    "        \n",
    "    def fill_slots():\n",
    "        pass\n",
    "    \n",
    "    def prompt():\n",
    "        pass\n",
    "        \n",
    "class WeatherFrame(Frame):\n",
    "    def __init__(self, database):\n",
    "        super().__init__(database, domain = \"WEATHER-FORECAST\", intent = \"WEATHER\")\n",
    "        self.location = None\n",
    "        self.weekday = None\n",
    "        \n",
    "    def fill_slots(self, user_input):\n",
    "        if not self.location:\n",
    "            location_regex = \"in (stockholm|gothenburg|san francisco|new york|berlin|london)\"\n",
    "            m = re.search(location_regex, user_input)\n",
    "            if m:\n",
    "                # if the city has two words\n",
    "                city = m.group(0).split()[1:]\n",
    "                city = ' '.join(city)\n",
    "#                 self.location = m.group(0).split()[1].capitalize()\n",
    "                self.location = city.capitalize()\n",
    "                \n",
    "        if not self.weekday:\n",
    "            weekday_regex = \"on (monday|tuesday|wednesday|thursday|friday|saturday|sunday)\"\n",
    "            m = re.search(weekday_regex, user_input)\n",
    "            if m:\n",
    "                self.weekday = m.group(0).split()[1].capitalize()\n",
    "\n",
    "    def prompt_location(self):\n",
    "        return \"In which city would you like a weather forecast?\"\n",
    "    \n",
    "    def prompt_weekday(self):\n",
    "        if self.location:\n",
    "            return \"On what day are you interested in receiving a weather forecast in {}?\".format(self.location)\n",
    "        else:\n",
    "            return \"On what day are you interested in receiving a weather forecast?\"\n",
    "    \n",
    "    def prompt(self):\n",
    "        if not self.location:\n",
    "            return self.prompt_location()\n",
    "        \n",
    "        if not self.weekday:\n",
    "            return self.prompt_weekday()\n",
    "        \n",
    "        # both have been filled, return answer\n",
    "        weather = self.database.get_weather(self.location, self.weekday)\n",
    "        return \"The weather in {} on {} is: {}.\".format(self.location, self.weekday, weather)\n",
    "    \n",
    "    def is_filled(self):\n",
    "        return self.location and self.weekday\n",
    "        \n",
    "class RestaurantFrame(Frame):\n",
    "    def __init__(self, database):\n",
    "        super().__init__(database, domain = \"RESTAURANT\", intent = \"FIND-RESTAURANT\")\n",
    "        self.price = None\n",
    "        self.food = None\n",
    "        self.location = None\n",
    "        \n",
    "    def fill_slots(self, user_input):\n",
    "        if not self.price:\n",
    "            price_regex = \"cheap|expensive|moderate\"\n",
    "            m = re.search(price_regex, user_input)\n",
    "            if m:\n",
    "                self.price = m.group(0).capitalize()\n",
    "                \n",
    "        if not self.food:\n",
    "            food_regex = \"(italian|thai|chinese|greek|mexican) food\"\n",
    "            m = re.search(food_regex, user_input)\n",
    "            if m:\n",
    "                self.food = m.group(0)\n",
    "\n",
    "        if not self.location:\n",
    "            location_regex = \"(in|near|around) (downtown|the south|the north|the east|the west)\"\n",
    "            m = re.search(location_regex, user_input)\n",
    "            if m:\n",
    "                self.location = m.group(0)\n",
    "                \n",
    "\n",
    "    def prompt_price(self):\n",
    "        return \"What price range are you interested in?\"\n",
    "        \n",
    "    def prompt_food(self):\n",
    "        return \"What sort of food are you looking for?\"\n",
    "    \n",
    "    def prompt_location(self):\n",
    "        return \"What area would you like to eat at?\"\n",
    "    \n",
    "    def prompt(self):\n",
    "        if not self.food:\n",
    "            return self.prompt_food()\n",
    "        \n",
    "        if not self.location:\n",
    "            return self.prompt_location()\n",
    "        \n",
    "        if not self.price:\n",
    "            return self.prompt_price()\n",
    "        \n",
    "        \n",
    "        \n",
    "        # both have been filled, return answer\n",
    "        restaurant = self.database.get_restaurant(self.price, self.food, self.location)\n",
    "        ret = \"{} {} (located {}) can be found at the restaurant '{}'. The address is {}.\".format(self.price, self.food, self.location, restaurant[\"name\"], restaurant[\"address\"])\n",
    "        return ret\n",
    "\n",
    "    \n",
    "    def is_filled(self):\n",
    "        return self.price and self.food and self.location\n",
    "        \n",
    "class TransportFrame(Frame):\n",
    "    def __init__(self, database):\n",
    "        super().__init__(database, domain = \"TRANSPORT\", intent = \"FIND-TRAM-OR-BUS\")\n",
    "        self.origin = None\n",
    "        self.destination = None\n",
    "        self.time = None\n",
    "        \n",
    "    def fill_slots(self, user_input):\n",
    "        if not self.origin:\n",
    "            origin_regex = \"from [a-zA-Z]+\"\n",
    "            m = re.search(origin_regex, user_input)\n",
    "            if m:\n",
    "                self.origin = m.group(0).split()[1].capitalize()\n",
    "                \n",
    "        if not self.destination:\n",
    "            destination_regex = \"to [a-zA-Z]+\"\n",
    "            m = re.search(destination_regex, user_input)\n",
    "            if m:\n",
    "                self.destination = m.group(0).split()[1].capitalize()\n",
    "                \n",
    "        if not self.time:\n",
    "            time_regex = \"at (1[0-2]|0?[1-9])(:[0-5][0-9])? (am|pm)\"\n",
    "            m = re.search(time_regex, user_input)\n",
    "            if m:\n",
    "                self.time = m.group(0)\n",
    "\n",
    "    def prompt_origin(self):\n",
    "        return \"Where are you leaving from?\"\n",
    "    \n",
    "    def prompt_destination(self):\n",
    "        return \"Where would you like to go?\"\n",
    "    \n",
    "    def prompt_time(self):\n",
    "        return \"At what time would you like to depart?\"\n",
    "    \n",
    "    def prompt(self):\n",
    "        if not self.destination:\n",
    "            return self.prompt_destination()\n",
    "        \n",
    "        if not self.origin:\n",
    "            return self.prompt_origin()\n",
    "        \n",
    "        if not self.time:\n",
    "            return self.prompt_time()\n",
    "        \n",
    "        # both have been filled, return answer\n",
    "        transport = self.database.get_transport(self.origin, self.destination, self.time)\n",
    "        return \"There is a {} going from {} to {} at {}.\".format(transport[\"type\"], self.origin, self.destination, transport[\"time\"])\n",
    "    \n",
    "    def is_filled(self):\n",
    "        return self.origin and self.destination and self.time\n",
    "        "
   ]
  },
  {
   "cell_type": "code",
   "execution_count": 5,
   "metadata": {
    "pycharm": {
     "is_executing": false
    }
   },
   "outputs": [],
   "source": [
    "import re\n",
    "class DigitalAssistant:\n",
    "    WEATHER = 1\n",
    "    RESTAURANT = 2\n",
    "    TRANSPORT = 3\n",
    "    \n",
    "    WEATHER_KEYWORDS = [\"weather\", \"rainy\", \"sunny\"]\n",
    "    RESTAURANT_KEYWORDS = [\"restaurant\", \"hungry\", \"food\", \"eat\"]\n",
    "    TRANSPORT_KEYWORDS = [\"transport\", \"bus\", \"tram\", \"travel\"]\n",
    "    \n",
    "    def __init__(self):\n",
    "        self.db = FakeDatabase()\n",
    "        self.weather_frame = None\n",
    "        self.restaurant_frame = None\n",
    "        self.transport_frame = None\n",
    "        self.current_intent = None\n",
    "        \n",
    "    def say(self, sentence):\n",
    "        print(\"ASSISTANT: \", sentence)\n",
    "        \n",
    "    def identify_intent(self, user_input):\n",
    "        if any(keyword in user_input for keyword in self.WEATHER_KEYWORDS):\n",
    "            self.current_intent = self.WEATHER\n",
    "            if not self.weather_frame:\n",
    "                self.weather_frame = WeatherFrame(self.db)\n",
    "        elif any(keyword in user_input for keyword in self.RESTAURANT_KEYWORDS):\n",
    "            self.current_intent = self.RESTAURANT\n",
    "            if not self.restaurant_frame:\n",
    "                self.restaurant_frame = RestaurantFrame(self.db)\n",
    "        elif any(keyword in user_input for keyword in self.TRANSPORT_KEYWORDS):\n",
    "            self.current_intent = self.TRANSPORT\n",
    "            if not self.transport_frame:\n",
    "                self.transport_frame = TransportFrame(self.db)\n",
    "        #else:\n",
    "            #intent unchanged or unkown\n",
    "            \n",
    "        # debug    \n",
    "       # if self.current_intent == self.WEATHER:\n",
    "       #     print(\"CURRENT INTENT: \", \"WEATHER\")\n",
    "       # elif self.current_intent == self.RESTAURANT:\n",
    "       #     print(\"CURRENT INTENT: \", \"RESTAURANT\")\n",
    "       # elif self.current_intent == self.TRANSPORT:\n",
    "       #     print(\"CURRENT INTENT: \", \"TRANSPORT\")\n",
    "            \n",
    "    def process_input(self, user_input):\n",
    "        #user_input_split = user_input.lower().split()\n",
    "        self.identify_intent(user_input)\n",
    "        \n",
    "        if self.current_intent == DigitalAssistant.WEATHER:\n",
    "            self.weather_frame.fill_slots(user_input)\n",
    "            self.say(self.weather_frame.prompt())\n",
    "            if self.weather_frame.is_filled():\n",
    "                self.weather_frame = None\n",
    "                self.say(\"What else can I do for you?\")\n",
    "        elif self.current_intent == DigitalAssistant.RESTAURANT:\n",
    "            self.restaurant_frame.fill_slots(user_input)\n",
    "            self.say(self.restaurant_frame.prompt())\n",
    "            if self.restaurant_frame.is_filled():\n",
    "                self.restaurant_frame = None\n",
    "                self.say(\"What else can I do for you?\")\n",
    "        elif self.current_intent == DigitalAssistant.TRANSPORT:\n",
    "            self.transport_frame.fill_slots(user_input)\n",
    "            self.say(self.transport_frame.prompt())\n",
    "            if self.transport_frame.is_filled():\n",
    "                self.transport_frame = None\n",
    "                self.say(\"What else can I do for you?\")\n",
    "        else:\n",
    "            self.say(\"Interesting, what can I do for you?\")\n",
    "        "
   ]
  },
  {
   "cell_type": "code",
   "execution_count": 7,
   "metadata": {},
   "outputs": [
    {
     "name": "stdout",
     "output_type": "stream",
     "text": [
      "ASSISTANT:  Hi, what can I do for you?\n"
     ]
    },
    {
     "name": "stdin",
     "output_type": "stream",
     "text": [
      " I would like to eat something\n"
     ]
    },
    {
     "name": "stdout",
     "output_type": "stream",
     "text": [
      "ASSISTANT:  What sort of food are you looking for?\n"
     ]
    },
    {
     "name": "stdin",
     "output_type": "stream",
     "text": [
      " mexican food\n"
     ]
    },
    {
     "name": "stdout",
     "output_type": "stream",
     "text": [
      "ASSISTANT:  What area would you like to eat at?\n"
     ]
    },
    {
     "name": "stdin",
     "output_type": "stream",
     "text": [
      " what will the weather be in Gothenburg on tuesday?\n"
     ]
    },
    {
     "name": "stdout",
     "output_type": "stream",
     "text": [
      "ASSISTANT:  The weather in Gothenburg on Tuesday is: cloudy.\n",
      "ASSISTANT:  What else can I do for you?\n"
     ]
    },
    {
     "name": "stdin",
     "output_type": "stream",
     "text": [
      " I want to eat in the east of the city\n"
     ]
    },
    {
     "name": "stdout",
     "output_type": "stream",
     "text": [
      "ASSISTANT:  What price range are you interested in?\n"
     ]
    },
    {
     "name": "stdin",
     "output_type": "stream",
     "text": [
      " expensive\n"
     ]
    },
    {
     "name": "stdout",
     "output_type": "stream",
     "text": [
      "ASSISTANT:  Expensive mexican food (located in the east) can be found at the restaurant 'Fonda doña Lupita'. The address is Kungsgatan 20.\n",
      "ASSISTANT:  What else can I do for you?\n"
     ]
    },
    {
     "name": "stdin",
     "output_type": "stream",
     "text": [
      " ^C\n"
     ]
    },
    {
     "ename": "AttributeError",
     "evalue": "'NoneType' object has no attribute 'fill_slots'",
     "output_type": "error",
     "traceback": [
      "\u001b[1;31m---------------------------------------------------------------------------\u001b[0m",
      "\u001b[1;31mAttributeError\u001b[0m                            Traceback (most recent call last)",
      "\u001b[1;32m<ipython-input-7-9ac02d881177>\u001b[0m in \u001b[0;36m<module>\u001b[1;34m\u001b[0m\n\u001b[0;32m      4\u001b[0m     \u001b[0muser_input\u001b[0m \u001b[1;33m=\u001b[0m \u001b[0minput\u001b[0m\u001b[1;33m(\u001b[0m\u001b[1;33m)\u001b[0m\u001b[1;33m\u001b[0m\u001b[1;33m\u001b[0m\u001b[0m\n\u001b[0;32m      5\u001b[0m     \u001b[1;31m#print(user_input)\u001b[0m\u001b[1;33m\u001b[0m\u001b[1;33m\u001b[0m\u001b[1;33m\u001b[0m\u001b[0m\n\u001b[1;32m----> 6\u001b[1;33m     \u001b[0massistant\u001b[0m\u001b[1;33m.\u001b[0m\u001b[0mprocess_input\u001b[0m\u001b[1;33m(\u001b[0m\u001b[0muser_input\u001b[0m\u001b[1;33m.\u001b[0m\u001b[0mlower\u001b[0m\u001b[1;33m(\u001b[0m\u001b[1;33m)\u001b[0m\u001b[1;33m)\u001b[0m\u001b[1;33m\u001b[0m\u001b[1;33m\u001b[0m\u001b[0m\n\u001b[0m",
      "\u001b[1;32m<ipython-input-5-62e56a7019fa>\u001b[0m in \u001b[0;36mprocess_input\u001b[1;34m(self, user_input)\u001b[0m\n\u001b[0;32m     54\u001b[0m                 \u001b[0mself\u001b[0m\u001b[1;33m.\u001b[0m\u001b[0msay\u001b[0m\u001b[1;33m(\u001b[0m\u001b[1;34m\"What else can I do for you?\"\u001b[0m\u001b[1;33m)\u001b[0m\u001b[1;33m\u001b[0m\u001b[1;33m\u001b[0m\u001b[0m\n\u001b[0;32m     55\u001b[0m         \u001b[1;32melif\u001b[0m \u001b[0mself\u001b[0m\u001b[1;33m.\u001b[0m\u001b[0mcurrent_intent\u001b[0m \u001b[1;33m==\u001b[0m \u001b[0mDigitalAssistant\u001b[0m\u001b[1;33m.\u001b[0m\u001b[0mRESTAURANT\u001b[0m\u001b[1;33m:\u001b[0m\u001b[1;33m\u001b[0m\u001b[1;33m\u001b[0m\u001b[0m\n\u001b[1;32m---> 56\u001b[1;33m             \u001b[0mself\u001b[0m\u001b[1;33m.\u001b[0m\u001b[0mrestaurant_frame\u001b[0m\u001b[1;33m.\u001b[0m\u001b[0mfill_slots\u001b[0m\u001b[1;33m(\u001b[0m\u001b[0muser_input\u001b[0m\u001b[1;33m)\u001b[0m\u001b[1;33m\u001b[0m\u001b[1;33m\u001b[0m\u001b[0m\n\u001b[0m\u001b[0;32m     57\u001b[0m             \u001b[0mself\u001b[0m\u001b[1;33m.\u001b[0m\u001b[0msay\u001b[0m\u001b[1;33m(\u001b[0m\u001b[0mself\u001b[0m\u001b[1;33m.\u001b[0m\u001b[0mrestaurant_frame\u001b[0m\u001b[1;33m.\u001b[0m\u001b[0mprompt\u001b[0m\u001b[1;33m(\u001b[0m\u001b[1;33m)\u001b[0m\u001b[1;33m)\u001b[0m\u001b[1;33m\u001b[0m\u001b[1;33m\u001b[0m\u001b[0m\n\u001b[0;32m     58\u001b[0m             \u001b[1;32mif\u001b[0m \u001b[0mself\u001b[0m\u001b[1;33m.\u001b[0m\u001b[0mrestaurant_frame\u001b[0m\u001b[1;33m.\u001b[0m\u001b[0mis_filled\u001b[0m\u001b[1;33m(\u001b[0m\u001b[1;33m)\u001b[0m\u001b[1;33m:\u001b[0m\u001b[1;33m\u001b[0m\u001b[1;33m\u001b[0m\u001b[0m\n",
      "\u001b[1;31mAttributeError\u001b[0m: 'NoneType' object has no attribute 'fill_slots'"
     ]
    }
   ],
   "source": [
    "assistant = DigitalAssistant()\n",
    "assistant.say(\"Hi, what can I do for you?\")\n",
    "while(True):\n",
    "    user_input = input()\n",
    "    #print(user_input)\n",
    "    assistant.process_input(user_input.lower())"
   ]
  },
  {
   "cell_type": "code",
   "execution_count": null,
   "metadata": {},
   "outputs": [],
   "source": []
  }
 ],
 "metadata": {
  "kernelspec": {
   "display_name": "PyCharm (Assignment4)",
   "language": "python",
   "name": "pycharm-46474081"
  },
  "language_info": {
   "codemirror_mode": {
    "name": "ipython",
    "version": 3
   },
   "file_extension": ".py",
   "mimetype": "text/x-python",
   "name": "python",
   "nbconvert_exporter": "python",
   "pygments_lexer": "ipython3",
   "version": "3.7.1"
  },
  "pycharm": {
   "stem_cell": {
    "cell_type": "raw",
    "metadata": {
     "collapsed": false
    },
    "source": []
   }
  }
 },
 "nbformat": 4,
 "nbformat_minor": 4
}
